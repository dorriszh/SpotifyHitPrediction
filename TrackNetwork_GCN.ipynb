{
 "cells": [
  {
   "cell_type": "code",
   "execution_count": 1,
   "metadata": {},
   "outputs": [],
   "source": [
    "import numpy as np\n",
    "import pandas as pd\n",
    "import matplotlib.pyplot as plt\n",
    "import networkx as nx\n",
    "from sklearn.preprocessing import StandardScaler\n",
    "from sklearn.preprocessing import normalize\n",
    "from collections import Counter\n",
    "%matplotlib inline"
   ]
  },
  {
   "cell_type": "markdown",
   "metadata": {},
   "source": [
    "### Process data"
   ]
  },
  {
   "cell_type": "code",
   "execution_count": 2,
   "metadata": {},
   "outputs": [],
   "source": [
    "dfs = [pd.read_csv(f'archive/dataset-of-{decade}0s.csv') for decade in ['6', '7', '8', '9', '0', '1']]\n",
    "\n",
    "for i, decade in enumerate([1960, 1970, 1980, 1990, 2000, 2010]):\n",
    "    dfs[i]['decade'] = pd.Series(decade, index=dfs[i].index)\n",
    "\n",
    "data = pd.concat(dfs, axis=0).sample(frac=1.0, random_state=1).reset_index(drop=True)\n",
    "data = data.dropna('columns')"
   ]
  },
  {
   "cell_type": "code",
   "execution_count": 3,
   "metadata": {},
   "outputs": [],
   "source": [
    "def split_artists(data):\n",
    "    for index, row in data.iterrows():\n",
    "        if type(row['artist'])==list:\n",
    "            break\n",
    "        artists = [row['artist']]\n",
    "\n",
    "        def check(s, artists):\n",
    "            artists_list = []\n",
    "            for item in artists:\n",
    "                if s in item:\n",
    "                    artists_list += item.split(s)\n",
    "                    #print(s,' ', item,' ',artists_list)\n",
    "                else:\n",
    "                    artists_list.append(item)\n",
    "            return artists_list\n",
    "\n",
    "        artists = check('Featuring', artists)\n",
    "        artists = check('featuring', artists)\n",
    "        artists = check('Feat.', artists)\n",
    "        artists = check(',', artists)\n",
    "        #artists = check('+', artists)\n",
    "        data.at[index, 'artist'] = artists\n",
    "    return data\n",
    "\n",
    "data = split_artists(data.copy())"
   ]
  },
  {
   "cell_type": "code",
   "execution_count": 4,
   "metadata": {},
   "outputs": [
    {
     "data": {
      "text/html": [
       "<div>\n",
       "<style scoped>\n",
       "    .dataframe tbody tr th:only-of-type {\n",
       "        vertical-align: middle;\n",
       "    }\n",
       "\n",
       "    .dataframe tbody tr th {\n",
       "        vertical-align: top;\n",
       "    }\n",
       "\n",
       "    .dataframe thead th {\n",
       "        text-align: right;\n",
       "    }\n",
       "</style>\n",
       "<table border=\"1\" class=\"dataframe\">\n",
       "  <thead>\n",
       "    <tr style=\"text-align: right;\">\n",
       "      <th></th>\n",
       "      <th>track</th>\n",
       "      <th>artist</th>\n",
       "      <th>uri</th>\n",
       "      <th>danceability</th>\n",
       "      <th>energy</th>\n",
       "      <th>key</th>\n",
       "      <th>loudness</th>\n",
       "      <th>mode</th>\n",
       "      <th>speechiness</th>\n",
       "      <th>acousticness</th>\n",
       "      <th>instrumentalness</th>\n",
       "      <th>liveness</th>\n",
       "      <th>valence</th>\n",
       "      <th>tempo</th>\n",
       "      <th>duration_ms</th>\n",
       "      <th>time_signature</th>\n",
       "      <th>chorus_hit</th>\n",
       "      <th>sections</th>\n",
       "      <th>target</th>\n",
       "      <th>decade</th>\n",
       "    </tr>\n",
       "  </thead>\n",
       "  <tbody>\n",
       "    <tr>\n",
       "      <th>0</th>\n",
       "      <td>Hard Working Woman - Live / 1983</td>\n",
       "      <td>[Otis Clay]</td>\n",
       "      <td>spotify:track:2g8zPTDvSWlYTZs9ylQQ9L</td>\n",
       "      <td>0.574</td>\n",
       "      <td>0.7630</td>\n",
       "      <td>8</td>\n",
       "      <td>-11.921</td>\n",
       "      <td>0</td>\n",
       "      <td>0.0467</td>\n",
       "      <td>0.23400</td>\n",
       "      <td>0.000039</td>\n",
       "      <td>0.5720</td>\n",
       "      <td>0.916</td>\n",
       "      <td>126.158</td>\n",
       "      <td>364333</td>\n",
       "      <td>4</td>\n",
       "      <td>27.85422</td>\n",
       "      <td>11</td>\n",
       "      <td>0</td>\n",
       "      <td>1980</td>\n",
       "    </tr>\n",
       "    <tr>\n",
       "      <th>1</th>\n",
       "      <td>Quatuor pour la fin du temps (Quartet for the ...</td>\n",
       "      <td>[Olivier Messiaen]</td>\n",
       "      <td>spotify:track:2Ow0yMUSccQ4vmfq8pyCCF</td>\n",
       "      <td>0.121</td>\n",
       "      <td>0.0238</td>\n",
       "      <td>4</td>\n",
       "      <td>-28.614</td>\n",
       "      <td>1</td>\n",
       "      <td>0.0400</td>\n",
       "      <td>0.97800</td>\n",
       "      <td>0.910000</td>\n",
       "      <td>0.0771</td>\n",
       "      <td>0.030</td>\n",
       "      <td>95.821</td>\n",
       "      <td>420040</td>\n",
       "      <td>4</td>\n",
       "      <td>32.71495</td>\n",
       "      <td>20</td>\n",
       "      <td>0</td>\n",
       "      <td>2000</td>\n",
       "    </tr>\n",
       "    <tr>\n",
       "      <th>2</th>\n",
       "      <td>Wokeuplikethis*</td>\n",
       "      <td>[Playboi Carti ,  Lil Uzi Vert]</td>\n",
       "      <td>spotify:track:59J5nzL1KniFHnU120dQzt</td>\n",
       "      <td>0.785</td>\n",
       "      <td>0.6200</td>\n",
       "      <td>8</td>\n",
       "      <td>-6.668</td>\n",
       "      <td>1</td>\n",
       "      <td>0.2540</td>\n",
       "      <td>0.01380</td>\n",
       "      <td>0.000000</td>\n",
       "      <td>0.1500</td>\n",
       "      <td>0.478</td>\n",
       "      <td>78.476</td>\n",
       "      <td>235535</td>\n",
       "      <td>4</td>\n",
       "      <td>28.46889</td>\n",
       "      <td>13</td>\n",
       "      <td>1</td>\n",
       "      <td>2010</td>\n",
       "    </tr>\n",
       "    <tr>\n",
       "      <th>3</th>\n",
       "      <td>Plug Walk</td>\n",
       "      <td>[Rich The Kid]</td>\n",
       "      <td>spotify:track:1ZAyjvIk9YiD76yYy0TEG6</td>\n",
       "      <td>0.876</td>\n",
       "      <td>0.5190</td>\n",
       "      <td>11</td>\n",
       "      <td>-6.531</td>\n",
       "      <td>1</td>\n",
       "      <td>0.1430</td>\n",
       "      <td>0.20200</td>\n",
       "      <td>0.000000</td>\n",
       "      <td>0.1080</td>\n",
       "      <td>0.158</td>\n",
       "      <td>94.981</td>\n",
       "      <td>175230</td>\n",
       "      <td>4</td>\n",
       "      <td>20.94400</td>\n",
       "      <td>9</td>\n",
       "      <td>1</td>\n",
       "      <td>2010</td>\n",
       "    </tr>\n",
       "    <tr>\n",
       "      <th>4</th>\n",
       "      <td>Key Largo</td>\n",
       "      <td>[Bertie Higgins]</td>\n",
       "      <td>spotify:track:41v56RunWqxgqTD4H2cwOD</td>\n",
       "      <td>0.503</td>\n",
       "      <td>0.6590</td>\n",
       "      <td>0</td>\n",
       "      <td>-6.829</td>\n",
       "      <td>1</td>\n",
       "      <td>0.0356</td>\n",
       "      <td>0.44300</td>\n",
       "      <td>0.000000</td>\n",
       "      <td>0.1530</td>\n",
       "      <td>0.330</td>\n",
       "      <td>101.668</td>\n",
       "      <td>198947</td>\n",
       "      <td>4</td>\n",
       "      <td>21.74949</td>\n",
       "      <td>9</td>\n",
       "      <td>1</td>\n",
       "      <td>1980</td>\n",
       "    </tr>\n",
       "    <tr>\n",
       "      <th>...</th>\n",
       "      <td>...</td>\n",
       "      <td>...</td>\n",
       "      <td>...</td>\n",
       "      <td>...</td>\n",
       "      <td>...</td>\n",
       "      <td>...</td>\n",
       "      <td>...</td>\n",
       "      <td>...</td>\n",
       "      <td>...</td>\n",
       "      <td>...</td>\n",
       "      <td>...</td>\n",
       "      <td>...</td>\n",
       "      <td>...</td>\n",
       "      <td>...</td>\n",
       "      <td>...</td>\n",
       "      <td>...</td>\n",
       "      <td>...</td>\n",
       "      <td>...</td>\n",
       "      <td>...</td>\n",
       "      <td>...</td>\n",
       "    </tr>\n",
       "    <tr>\n",
       "      <th>41006</th>\n",
       "      <td>Kiko</td>\n",
       "      <td>[Jimmy McGriff]</td>\n",
       "      <td>spotify:track:7oHFJ7VuwjeAvEgQbEmM8r</td>\n",
       "      <td>0.853</td>\n",
       "      <td>0.6300</td>\n",
       "      <td>5</td>\n",
       "      <td>-14.193</td>\n",
       "      <td>1</td>\n",
       "      <td>0.0894</td>\n",
       "      <td>0.18700</td>\n",
       "      <td>0.868000</td>\n",
       "      <td>0.1120</td>\n",
       "      <td>0.882</td>\n",
       "      <td>115.674</td>\n",
       "      <td>164467</td>\n",
       "      <td>4</td>\n",
       "      <td>47.68413</td>\n",
       "      <td>8</td>\n",
       "      <td>1</td>\n",
       "      <td>1960</td>\n",
       "    </tr>\n",
       "    <tr>\n",
       "      <th>41007</th>\n",
       "      <td>How We Do</td>\n",
       "      <td>[The Game ,  50 Cent]</td>\n",
       "      <td>spotify:track:4PmMVdIFpJTB9WQbmILf4p</td>\n",
       "      <td>0.862</td>\n",
       "      <td>0.6480</td>\n",
       "      <td>4</td>\n",
       "      <td>-7.401</td>\n",
       "      <td>0</td>\n",
       "      <td>0.2510</td>\n",
       "      <td>0.04550</td>\n",
       "      <td>0.000000</td>\n",
       "      <td>0.0332</td>\n",
       "      <td>0.637</td>\n",
       "      <td>98.012</td>\n",
       "      <td>235533</td>\n",
       "      <td>4</td>\n",
       "      <td>23.35783</td>\n",
       "      <td>12</td>\n",
       "      <td>1</td>\n",
       "      <td>2000</td>\n",
       "    </tr>\n",
       "    <tr>\n",
       "      <th>41008</th>\n",
       "      <td>G. Rossini: Der Barbier von Sevilla/Die Verleu...</td>\n",
       "      <td>[Staatskapelle Berlin]</td>\n",
       "      <td>spotify:track:41C2tPBf2JmHafRunOkNVk</td>\n",
       "      <td>0.349</td>\n",
       "      <td>0.1230</td>\n",
       "      <td>0</td>\n",
       "      <td>-19.248</td>\n",
       "      <td>1</td>\n",
       "      <td>0.1000</td>\n",
       "      <td>0.91000</td>\n",
       "      <td>0.000035</td>\n",
       "      <td>0.1330</td>\n",
       "      <td>0.157</td>\n",
       "      <td>76.240</td>\n",
       "      <td>268907</td>\n",
       "      <td>3</td>\n",
       "      <td>48.43741</td>\n",
       "      <td>11</td>\n",
       "      <td>0</td>\n",
       "      <td>1960</td>\n",
       "    </tr>\n",
       "    <tr>\n",
       "      <th>41009</th>\n",
       "      <td>Bella Ciao (Lied der italienischen Partisanen)</td>\n",
       "      <td>[Hannes Wader]</td>\n",
       "      <td>spotify:track:2OYLSRaVD3Dp35NwoS1b8r</td>\n",
       "      <td>0.457</td>\n",
       "      <td>0.5740</td>\n",
       "      <td>9</td>\n",
       "      <td>-16.066</td>\n",
       "      <td>1</td>\n",
       "      <td>0.2590</td>\n",
       "      <td>0.79300</td>\n",
       "      <td>0.000000</td>\n",
       "      <td>0.7590</td>\n",
       "      <td>0.709</td>\n",
       "      <td>109.195</td>\n",
       "      <td>196333</td>\n",
       "      <td>4</td>\n",
       "      <td>37.54967</td>\n",
       "      <td>9</td>\n",
       "      <td>0</td>\n",
       "      <td>1970</td>\n",
       "    </tr>\n",
       "    <tr>\n",
       "      <th>41010</th>\n",
       "      <td>Asik Vaysel</td>\n",
       "      <td>[Joe Satriani]</td>\n",
       "      <td>spotify:track:0CYKwYQwbc7QZOB1gzNt7B</td>\n",
       "      <td>0.318</td>\n",
       "      <td>0.9510</td>\n",
       "      <td>9</td>\n",
       "      <td>-6.863</td>\n",
       "      <td>1</td>\n",
       "      <td>0.0717</td>\n",
       "      <td>0.00783</td>\n",
       "      <td>0.945000</td>\n",
       "      <td>0.3120</td>\n",
       "      <td>0.345</td>\n",
       "      <td>179.077</td>\n",
       "      <td>462213</td>\n",
       "      <td>4</td>\n",
       "      <td>30.95042</td>\n",
       "      <td>18</td>\n",
       "      <td>0</td>\n",
       "      <td>2000</td>\n",
       "    </tr>\n",
       "  </tbody>\n",
       "</table>\n",
       "<p>41011 rows × 20 columns</p>\n",
       "</div>"
      ],
      "text/plain": [
       "                                                   track  \\\n",
       "0                       Hard Working Woman - Live / 1983   \n",
       "1      Quatuor pour la fin du temps (Quartet for the ...   \n",
       "2                                        Wokeuplikethis*   \n",
       "3                                              Plug Walk   \n",
       "4                                              Key Largo   \n",
       "...                                                  ...   \n",
       "41006                                               Kiko   \n",
       "41007                                          How We Do   \n",
       "41008  G. Rossini: Der Barbier von Sevilla/Die Verleu...   \n",
       "41009     Bella Ciao (Lied der italienischen Partisanen)   \n",
       "41010                                        Asik Vaysel   \n",
       "\n",
       "                                artist                                   uri  \\\n",
       "0                          [Otis Clay]  spotify:track:2g8zPTDvSWlYTZs9ylQQ9L   \n",
       "1                   [Olivier Messiaen]  spotify:track:2Ow0yMUSccQ4vmfq8pyCCF   \n",
       "2      [Playboi Carti ,  Lil Uzi Vert]  spotify:track:59J5nzL1KniFHnU120dQzt   \n",
       "3                       [Rich The Kid]  spotify:track:1ZAyjvIk9YiD76yYy0TEG6   \n",
       "4                     [Bertie Higgins]  spotify:track:41v56RunWqxgqTD4H2cwOD   \n",
       "...                                ...                                   ...   \n",
       "41006                  [Jimmy McGriff]  spotify:track:7oHFJ7VuwjeAvEgQbEmM8r   \n",
       "41007            [The Game ,  50 Cent]  spotify:track:4PmMVdIFpJTB9WQbmILf4p   \n",
       "41008           [Staatskapelle Berlin]  spotify:track:41C2tPBf2JmHafRunOkNVk   \n",
       "41009                   [Hannes Wader]  spotify:track:2OYLSRaVD3Dp35NwoS1b8r   \n",
       "41010                   [Joe Satriani]  spotify:track:0CYKwYQwbc7QZOB1gzNt7B   \n",
       "\n",
       "       danceability  energy  key  loudness  mode  speechiness  acousticness  \\\n",
       "0             0.574  0.7630    8   -11.921     0       0.0467       0.23400   \n",
       "1             0.121  0.0238    4   -28.614     1       0.0400       0.97800   \n",
       "2             0.785  0.6200    8    -6.668     1       0.2540       0.01380   \n",
       "3             0.876  0.5190   11    -6.531     1       0.1430       0.20200   \n",
       "4             0.503  0.6590    0    -6.829     1       0.0356       0.44300   \n",
       "...             ...     ...  ...       ...   ...          ...           ...   \n",
       "41006         0.853  0.6300    5   -14.193     1       0.0894       0.18700   \n",
       "41007         0.862  0.6480    4    -7.401     0       0.2510       0.04550   \n",
       "41008         0.349  0.1230    0   -19.248     1       0.1000       0.91000   \n",
       "41009         0.457  0.5740    9   -16.066     1       0.2590       0.79300   \n",
       "41010         0.318  0.9510    9    -6.863     1       0.0717       0.00783   \n",
       "\n",
       "       instrumentalness  liveness  valence    tempo  duration_ms  \\\n",
       "0              0.000039    0.5720    0.916  126.158       364333   \n",
       "1              0.910000    0.0771    0.030   95.821       420040   \n",
       "2              0.000000    0.1500    0.478   78.476       235535   \n",
       "3              0.000000    0.1080    0.158   94.981       175230   \n",
       "4              0.000000    0.1530    0.330  101.668       198947   \n",
       "...                 ...       ...      ...      ...          ...   \n",
       "41006          0.868000    0.1120    0.882  115.674       164467   \n",
       "41007          0.000000    0.0332    0.637   98.012       235533   \n",
       "41008          0.000035    0.1330    0.157   76.240       268907   \n",
       "41009          0.000000    0.7590    0.709  109.195       196333   \n",
       "41010          0.945000    0.3120    0.345  179.077       462213   \n",
       "\n",
       "       time_signature  chorus_hit  sections  target  decade  \n",
       "0                   4    27.85422        11       0    1980  \n",
       "1                   4    32.71495        20       0    2000  \n",
       "2                   4    28.46889        13       1    2010  \n",
       "3                   4    20.94400         9       1    2010  \n",
       "4                   4    21.74949         9       1    1980  \n",
       "...               ...         ...       ...     ...     ...  \n",
       "41006               4    47.68413         8       1    1960  \n",
       "41007               4    23.35783        12       1    2000  \n",
       "41008               3    48.43741        11       0    1960  \n",
       "41009               4    37.54967         9       0    1970  \n",
       "41010               4    30.95042        18       0    2000  \n",
       "\n",
       "[41011 rows x 20 columns]"
      ]
     },
     "execution_count": 4,
     "metadata": {},
     "output_type": "execute_result"
    }
   ],
   "source": [
    "data"
   ]
  },
  {
   "cell_type": "code",
   "execution_count": 5,
   "metadata": {},
   "outputs": [
    {
     "data": {
      "text/plain": [
       "40560"
      ]
     },
     "execution_count": 5,
     "metadata": {},
     "output_type": "execute_result"
    }
   ],
   "source": [
    "d = dict(data['uri'].value_counts())\n",
    "len(d.keys())"
   ]
  },
  {
   "cell_type": "code",
   "execution_count": 7,
   "metadata": {},
   "outputs": [],
   "source": [
    "# drop duplicate uri\n",
    "drop_list = []\n",
    "for k, v in d.items():\n",
    "    if d[k]>1:\n",
    "        decade = min(data.loc[data['uri']==k]['decade'])\n",
    "        for index, row in data.loc[data['uri']==k].iterrows():\n",
    "            if row['decade']>decade:\n",
    "                drop_list.append(index)\n",
    "data = data.drop(drop_list).reset_index()"
   ]
  },
  {
   "cell_type": "code",
   "execution_count": 8,
   "metadata": {},
   "outputs": [
    {
     "name": "stdout",
     "output_type": "stream",
     "text": [
      "<class 'pandas.core.frame.DataFrame'>\n",
      "RangeIndex: 40560 entries, 0 to 40559\n",
      "Data columns (total 20 columns):\n",
      " #   Column            Non-Null Count  Dtype  \n",
      "---  ------            --------------  -----  \n",
      " 0   track             40560 non-null  object \n",
      " 1   artist            40560 non-null  object \n",
      " 2   uri               40560 non-null  object \n",
      " 3   danceability      40560 non-null  float64\n",
      " 4   energy            40560 non-null  float64\n",
      " 5   key               40560 non-null  int64  \n",
      " 6   loudness          40560 non-null  float64\n",
      " 7   mode              40560 non-null  int64  \n",
      " 8   speechiness       40560 non-null  float64\n",
      " 9   acousticness      40560 non-null  float64\n",
      " 10  instrumentalness  40560 non-null  float64\n",
      " 11  liveness          40560 non-null  float64\n",
      " 12  valence           40560 non-null  float64\n",
      " 13  tempo             40560 non-null  float64\n",
      " 14  duration_ms       40560 non-null  int64  \n",
      " 15  time_signature    40560 non-null  int64  \n",
      " 16  chorus_hit        40560 non-null  float64\n",
      " 17  sections          40560 non-null  int64  \n",
      " 18  target            40560 non-null  int64  \n",
      " 19  decade            40560 non-null  int64  \n",
      "dtypes: float64(10), int64(7), object(3)\n",
      "memory usage: 6.2+ MB\n"
     ]
    }
   ],
   "source": [
    "data=data.drop(['index'], axis=1)\n",
    "data.info()"
   ]
  },
  {
   "cell_type": "markdown",
   "metadata": {
    "collapsed": true
   },
   "source": [
    "## Construct Graph"
   ]
  },
  {
   "cell_type": "code",
   "execution_count": 51,
   "metadata": {},
   "outputs": [],
   "source": [
    "#graphData = data.loc[data['decade']==2010]\n",
    "scalar = StandardScaler()\n",
    "scalar.fit(data.drop(['track', 'artist', 'uri','target'], axis=1).values)\n",
    "\n",
    "def getDecadeData(decade):\n",
    "    graphData = data.loc[data['decade']==decade]\n",
    "    label = graphData['target']\n",
    "    artist = graphData['artist']\n",
    "    uri = graphData['uri']\n",
    "    track = graphData['track']\n",
    "    features = graphData.drop(['track', 'artist', 'uri','target'], axis=1).values\n",
    "#     scalar = StandardScaler()\n",
    "#     scalar.fit(features)\n",
    "    features = scalar.transform(features)\n",
    "    return features, list(label), list(artist), list(uri), list(track)\n",
    "\n",
    "#getDecadeData(2010)\n",
    "decadesList = [1960,1970,1980,1990,2000,2010]\n",
    "nodeIdOffset = [0]"
   ]
  },
  {
   "cell_type": "code",
   "execution_count": 52,
   "metadata": {},
   "outputs": [
    {
     "data": {
      "text/plain": [
       "1960    8625\n",
       "1970    7685\n",
       "1980    6803\n",
       "2010    6262\n",
       "2000    5768\n",
       "1990    5417\n",
       "Name: decade, dtype: int64"
      ]
     },
     "execution_count": 52,
     "metadata": {},
     "output_type": "execute_result"
    }
   ],
   "source": [
    "data['decade'].value_counts()"
   ]
  },
  {
   "cell_type": "code",
   "execution_count": 53,
   "metadata": {},
   "outputs": [],
   "source": [
    "def constructGraphWithinDecade(G, threshold):\n",
    "    for i, decade in enumerate(decadesList):\n",
    "        features, label, artist, uri, track = getDecadeData(decade)\n",
    "        n = len(list(label))\n",
    "        offset = nodeIdOffset[i]\n",
    "        for i in range(offset, offset+n):\n",
    "            G.add_node(i, feature=features[i-offset], label=label[i-offset], artist=artist[i-offset], uri=uri[i-offset], track=track[i-offset])\n",
    "        #G.add_nodes_from(list(range(offset, offset+n)))\n",
    "        nodeIdOffset.append(offset+n)\n",
    "        print('Decade ',decade, ' nodes: ',n, ' id range: ',offset,offset+n)\n",
    "  \n",
    "        nfeatures = normalize(features, norm=\"l2\")\n",
    "        similarity = np.triu(np.array(nfeatures@nfeatures.T),1)\n",
    "        t = np.max(similarity)*threshold\n",
    "        x, y = np.where(similarity>t)\n",
    "        x, y = x+offset, y+offset\n",
    "        edges = list(zip(list(x), list(y)))\n",
    "        print('edges: ',len(edges))\n",
    "        G.add_edges_from(edges)"
   ]
  },
  {
   "cell_type": "code",
   "execution_count": 54,
   "metadata": {},
   "outputs": [],
   "source": [
    "def constructGraphCrossDecade(G, threshold):\n",
    "    for i in range(1, len(decadesList)):\n",
    "        features1 = getDecadeData(decadesList[i-1])[0]\n",
    "        features2 = getDecadeData(decadesList[i])[0]\n",
    "        \n",
    "        nfeatures1 = normalize(features1, norm=\"l2\")\n",
    "        nfeatures2 = normalize(features2, norm=\"l2\")\n",
    "        #print(nfeatures1.shape, nfeatures2.shape)\n",
    "        similarity = np.triu(np.array(nfeatures1@nfeatures2.T),1)\n",
    "        #print(similarity.shape)\n",
    "        t = np.max(similarity)*threshold\n",
    "        x, y = np.where(similarity>t)\n",
    "        x, y = x+nodeIdOffset[i-1], y+nodeIdOffset[i]\n",
    "        edges = list(zip(list(x), list(y)))\n",
    "        print('Decades: ',decadesList[i-1] ,decadesList[i] ,'edges: ',len(edges))\n",
    "        G.add_edges_from(edges)"
   ]
  },
  {
   "cell_type": "code",
   "execution_count": 55,
   "metadata": {},
   "outputs": [
    {
     "name": "stdout",
     "output_type": "stream",
     "text": [
      "Decade  1960  nodes:  8625  id range:  0 8625\n",
      "edges:  483225\n",
      "Decade  1970  nodes:  7685  id range:  8625 16310\n",
      "edges:  164462\n",
      "Decade  1980  nodes:  6803  id range:  16310 23113\n",
      "edges:  135458\n",
      "Decade  1990  nodes:  5417  id range:  23113 28530\n",
      "edges:  78610\n",
      "Decade  2000  nodes:  5768  id range:  28530 34298\n",
      "edges:  166550\n",
      "Decade  2010  nodes:  6262  id range:  34298 40560\n",
      "edges:  278399\n",
      "node:  40560  edges:  1306704\n",
      "Decades:  1960 1970 edges:  64479\n",
      "Decades:  1970 1980 edges:  33345\n",
      "Decades:  1980 1990 edges:  23110\n",
      "Decades:  1990 2000 edges:  34275\n",
      "Decades:  2000 2010 edges:  73741\n",
      "node:  40560  edges:  1535654\n"
     ]
    }
   ],
   "source": [
    "trackNet = nx.Graph()\n",
    "constructGraphWithinDecade(trackNet, 0.8)\n",
    "print(\"node: \", trackNet.number_of_nodes(), ' edges: ',trackNet.number_of_edges())\n",
    "constructGraphCrossDecade(trackNet, 0.85)\n",
    "print(\"node: \", trackNet.number_of_nodes(), ' edges: ',trackNet.number_of_edges())"
   ]
  },
  {
   "cell_type": "code",
   "execution_count": 56,
   "metadata": {},
   "outputs": [
    {
     "name": "stdout",
     "output_type": "stream",
     "text": [
      "=== Network statistics ===\n",
      "Number of nodes: 40560\n",
      "Number of edges: 1535654\n",
      "Network density: 0.0019\n",
      "Transitivity: 0.3645\n",
      "Average Clustering Coefficient: 0.3466\n",
      "======\n"
     ]
    }
   ],
   "source": [
    "density = nx.density(trackNet)\n",
    "transitivity = nx.transitivity(trackNet)\n",
    "average_clustering_coefficient = nx.average_clustering(trackNet)\n",
    "\n",
    "#############################################################\n",
    "print (f'=== Network statistics ===')\n",
    "\n",
    "print (f'Number of nodes: {trackNet.number_of_nodes()}')\n",
    "print (f'Number of edges: {trackNet.number_of_edges()}')\n",
    "print (f'Network density: {density:.4f}')\n",
    "print (f'Transitivity: {transitivity:.4f}')\n",
    "print (f'Average Clustering Coefficient: {average_clustering_coefficient:.4f}')\n",
    "print (f'======')"
   ]
  },
  {
   "cell_type": "code",
   "execution_count": 57,
   "metadata": {
    "scrolled": true
   },
   "outputs": [
    {
     "data": {
      "text/plain": [
       "{'feature': array([-1.40407257, -0.47644003,  0.505762  ,  0.55749513,  0.66558662,\n",
       "        -0.43150688,  1.5279161 , -0.51229509, -0.65380731,  1.10037491,\n",
       "         2.91386167, -0.87203517,  0.25250372, -0.80540805, -0.91354678,\n",
       "        -1.29538647]),\n",
       " 'label': 0,\n",
       " 'artist': ['Gerardo Reyes'],\n",
       " 'uri': 'spotify:track:5k718uRIW64ojlBMDXo0jH',\n",
       " 'track': 'Libro Abierto'}"
      ]
     },
     "execution_count": 57,
     "metadata": {},
     "output_type": "execute_result"
    }
   ],
   "source": [
    "trackNet.nodes[0]"
   ]
  },
  {
   "cell_type": "code",
   "execution_count": 58,
   "metadata": {},
   "outputs": [],
   "source": [
    "#map trackNet node id and artist node id\n",
    "data_artist = []\n",
    "trackNet_ids = trackNet.nodes()\n",
    "for i in trackNet_ids:\n",
    "    data_artist.append(trackNet.nodes[i]['artist'])\n",
    "artist_id_map = {}\n",
    "for index, dlist in enumerate(data_artist):\n",
    "    for d in dlist:\n",
    "        if d not in artist_id_map:\n",
    "            artist_id_map[d] = [index]\n",
    "        else:\n",
    "            artist_id_map[d].append(index)"
   ]
  },
  {
   "cell_type": "code",
   "execution_count": 59,
   "metadata": {},
   "outputs": [],
   "source": [
    "#build artist graph\n",
    "artist_node = []\n",
    "artist_edge = []\n",
    "artist_net = nx.Graph()\n",
    "for dlist in data_artist:\n",
    "    for i, d in enumerate(dlist):\n",
    "        if (d not in artist_node):\n",
    "            artist_node.append(d)\n",
    "            artist_net.add_node(d)\n",
    "        for j in range(len(dlist[i+1:-1])):\n",
    "            if [d, dlist[j]] not in artist_edge and [dlist[j],d] not in artist_edge:\n",
    "                artist_edge.append([d, dlist[j]])\n",
    "                artist_net.add_edge(d, dlist[j])"
   ]
  },
  {
   "cell_type": "code",
   "execution_count": 60,
   "metadata": {},
   "outputs": [
    {
     "name": "stdout",
     "output_type": "stream",
     "text": [
      "=== Network statistics ===\n",
      "Number of nodes: 12133\n",
      "Number of edges: 166\n",
      "Network density: 0.0000\n",
      "Transitivity: 0.2364\n",
      "Average Clustering Coefficient: 0.0009\n",
      "======\n"
     ]
    }
   ],
   "source": [
    "def print_network_statistics (net):\n",
    "    nodes = len(net.nodes())\n",
    "    edges = len(net.edges())\n",
    "    density = nx.density(net)\n",
    "    transitivity = nx.transitivity(net)\n",
    "    average_clustering_coefficient = nx.average_clustering(net)\n",
    "\n",
    "    print (f'=== Network statistics ===')\n",
    "    print (f'Number of nodes: {nodes}')\n",
    "    print (f'Number of edges: {edges}')\n",
    "    print (f'Network density: {density:.4f}')\n",
    "    print (f'Transitivity: {transitivity:.4f}')\n",
    "    print (f'Average Clustering Coefficient: {average_clustering_coefficient:.4f}')\n",
    "    print (f'======')\n",
    "    \n",
    "print_network_statistics(artist_net)"
   ]
  },
  {
   "cell_type": "code",
   "execution_count": 61,
   "metadata": {
    "scrolled": true
   },
   "outputs": [],
   "source": [
    "def GetArtistClusters(artist_net, artist_id_map):\n",
    "    artist_clusters = []\n",
    "    for node in artist_net.nodes():\n",
    "        artists = sorted(list(nx.bfs_tree(artist_net,node)))\n",
    "        if len(artists) > 1 and artists not in artist_clusters:\n",
    "            artist_clusters.append(artists)\n",
    "    artist_clusters_id = []\n",
    "    for cluster in artist_clusters:\n",
    "        id_cluster = []\n",
    "        for name in cluster:\n",
    "            for e in artist_id_map.get(name):\n",
    "                if e not in id_cluster:\n",
    "                    id_cluster.append(e)\n",
    "        artist_clusters_id.append(id_cluster)\n",
    "    return artist_clusters_id\n",
    "artist_clusters_id = GetArtistClusters(artist_net, artist_id_map)"
   ]
  },
  {
   "cell_type": "code",
   "execution_count": 62,
   "metadata": {},
   "outputs": [],
   "source": [
    "def AddEdgesFromRelatedArtists(trackNet, artist_clusters_id, threthold):\n",
    "    for cluster in artist_clusters_id:\n",
    "        for i in range(len(cluster)):\n",
    "            for j in range(i,len(cluster)):\n",
    "                nfeatures1 = trackNet.nodes[i]['feature']\n",
    "                nfeatures2 = trackNet.nodes[j]['feature']\n",
    "                similarity = nfeatures1@nfeatures2.T / (np.linalg.norm(nfeatures1) * np.linalg.norm(nfeatures2))\n",
    "                if similarity >= threthold:\n",
    "                    trackNet.add_edge(i,j)\n",
    "AddEdgesFromRelatedArtists(trackNet, artist_clusters_id, 0.6)"
   ]
  },
  {
   "cell_type": "code",
   "execution_count": 63,
   "metadata": {
    "scrolled": true
   },
   "outputs": [
    {
     "name": "stdout",
     "output_type": "stream",
     "text": [
      "=== Network statistics ===\n",
      "Number of nodes: 40560\n",
      "Number of edges: 1537494\n",
      "Network density: 0.0019\n",
      "Transitivity: 0.3641\n",
      "Average Clustering Coefficient: 0.3464\n",
      "======\n"
     ]
    }
   ],
   "source": [
    "print_network_statistics(trackNet)"
   ]
  },
  {
   "cell_type": "markdown",
   "metadata": {},
   "source": [
    "### Construct DGL Graph for Graph Convolutional Networks"
   ]
  },
  {
   "cell_type": "code",
   "execution_count": 64,
   "metadata": {},
   "outputs": [],
   "source": [
    "import dgl\n",
    "import dgl.function as fn\n",
    "import torch\n",
    "import torch.nn as nn\n",
    "import torch.nn.functional as F\n",
    "from dgl import DGLGraph"
   ]
  },
  {
   "cell_type": "code",
   "execution_count": 65,
   "metadata": {},
   "outputs": [],
   "source": [
    "from sklearn.model_selection import train_test_split\n",
    "training_size = 0.9"
   ]
  },
  {
   "cell_type": "code",
   "execution_count": 66,
   "metadata": {},
   "outputs": [],
   "source": [
    "#convert the networkx graph to dgl graph\n",
    "trackNet_selfloops = trackNet.copy()\n",
    "# print([e for e in nx.selfloop_edges(trackNet_selfloops)])\n",
    "trackNet_selfloops.remove_edges_from(nx.selfloop_edges(trackNet_selfloops))\n",
    "# print(nx.info(trackNet_selfloops))\n",
    "source = [e[0] for e in trackNet_selfloops.edges()]\n",
    "target = [e[1] for e in trackNet_selfloops.edges()]\n",
    "source_ids = torch.tensor(source)\n",
    "target_ids = torch.tensor(target)\n",
    "g_trackNet = dgl.graph((source_ids,target_ids))"
   ]
  },
  {
   "cell_type": "code",
   "execution_count": 67,
   "metadata": {},
   "outputs": [],
   "source": [
    "trackNet_features = []\n",
    "trackNet_labels = []\n",
    "trackNet_ids = trackNet.nodes()\n",
    "for i in trackNet_ids:\n",
    "    trackNet_features.append(trackNet.nodes[i]['feature'])\n",
    "    trackNet_labels.append(trackNet.nodes[i]['label'])\n",
    "g_trackNet.ndata['feature'] = torch.FloatTensor(trackNet_features)\n",
    "g_trackNet.ndata['label'] = torch.LongTensor(trackNet_labels)"
   ]
  },
  {
   "cell_type": "code",
   "execution_count": 68,
   "metadata": {},
   "outputs": [],
   "source": [
    "# trackNet_train_mask = []\n",
    "# trackNet_test_mask = []\n",
    "# trackNet_ids = list(trackNet_ids)\n",
    "# X_train, X_test, y_train, y_test = train_test_split(trackNet_ids,trackNet_labels,train_size=training_size,random_state=0)\n",
    "# for i in trackNet_ids:\n",
    "#     if trackNet_ids[i] in X_train:\n",
    "#         trackNet_train_mask.append(True)\n",
    "#         trackNet_test_mask.append(False)\n",
    "#     else:\n",
    "#         trackNet_train_mask.append(False)\n",
    "#         trackNet_test_mask.append(True)\n",
    "# # print(trackNet_train_mask[:10])\n",
    "# # print(trackNet_test_mask[:10])\n",
    "# g_trackNet.ndata['train_mask'] = torch.BoolTensor(trackNet_train_mask)\n",
    "# g_trackNet.ndata['test_mask'] = torch.BoolTensor(trackNet_test_mask)"
   ]
  },
  {
   "cell_type": "code",
   "execution_count": 69,
   "metadata": {},
   "outputs": [],
   "source": [
    "trackNet_train_mask = []\n",
    "trackNet_test_mask = []\n",
    "trackNet_ids = list(trackNet_ids)\n",
    "for i in range(len(nodeIdOffset) - 1):\n",
    "    decade_size = nodeIdOffset[i+1] - nodeIdOffset[i]\n",
    "#     train_size_decade = int(decade_size * training_size)\n",
    "#     print(train_size_decade)\n",
    "    nodes_train, nodes_test = train_test_split(trackNet_ids[nodeIdOffset[i]:nodeIdOffset[i+1]],train_size=training_size)\n",
    "    for n in range(nodeIdOffset[i],nodeIdOffset[i+1]):\n",
    "        if trackNet_ids[n] in nodes_train:\n",
    "            trackNet_train_mask.append(True)\n",
    "            trackNet_test_mask.append(False)\n",
    "        else:\n",
    "            trackNet_train_mask.append(False)\n",
    "            trackNet_test_mask.append(True)\n",
    "    \n",
    "#     trackNet_train_mask.extend([True] * train_size_decade)\n",
    "#     trackNet_train_mask.extend([False] * (decade_size - train_size_decade))\n",
    "#     trackNet_test_mask.extend([False] * train_size_decade)\n",
    "#     trackNet_test_mask.extend([True] * (decade_size - train_size_decade))\n",
    "\n",
    "g_trackNet.ndata['train_mask'] = torch.BoolTensor(trackNet_train_mask)\n",
    "g_trackNet.ndata['test_mask'] = torch.BoolTensor(trackNet_test_mask)"
   ]
  },
  {
   "cell_type": "markdown",
   "metadata": {},
   "source": [
    "## Graph Convolutional Network"
   ]
  },
  {
   "cell_type": "code",
   "execution_count": 79,
   "metadata": {},
   "outputs": [],
   "source": [
    "def load_dgl_data(g):\n",
    "    g = g\n",
    "    features = g.ndata['feature']\n",
    "    labels = g.ndata['label']\n",
    "    train_mask = g.ndata['train_mask']\n",
    "    test_mask = g.ndata['test_mask']\n",
    "    return g, features, labels, train_mask, test_mask"
   ]
  },
  {
   "cell_type": "code",
   "execution_count": 80,
   "metadata": {},
   "outputs": [],
   "source": [
    "gcn_msg = fn.copy_u(u='h', out='m')\n",
    "gcn_reduce = fn.sum(msg='m', out='h')"
   ]
  },
  {
   "cell_type": "code",
   "execution_count": 81,
   "metadata": {},
   "outputs": [],
   "source": [
    "class GCNLayer(nn.Module):\n",
    "    def __init__(self, in_feats, out_feats):\n",
    "        super(GCNLayer, self).__init__()\n",
    "        self.linear = nn.Linear(in_feats, out_feats)\n",
    "\n",
    "    def forward(self, g, feature):\n",
    "        # Create a local scope so that all the stored ndata and edata\n",
    "        # (such as the `'h'` ndata below) are automatically popped out\n",
    "        # when the scope exits.\n",
    "        with g.local_scope():\n",
    "            g.ndata['h'] = feature\n",
    "            g.update_all(gcn_msg, gcn_reduce)\n",
    "            h = g.ndata['h']\n",
    "            return self.linear(h)"
   ]
  },
  {
   "cell_type": "code",
   "execution_count": 82,
   "metadata": {},
   "outputs": [
    {
     "name": "stdout",
     "output_type": "stream",
     "text": [
      "Net(\n",
      "  (layer1): GCNLayer(\n",
      "    (linear): Linear(in_features=16, out_features=64, bias=True)\n",
      "  )\n",
      "  (layer2): GCNLayer(\n",
      "    (linear): Linear(in_features=64, out_features=16, bias=True)\n",
      "  )\n",
      "  (layer3): GCNLayer(\n",
      "    (linear): Linear(in_features=16, out_features=16, bias=True)\n",
      "  )\n",
      "  (layerNN1): Linear(in_features=16, out_features=64, bias=True)\n",
      "  (layerNN2): Linear(in_features=64, out_features=16, bias=True)\n",
      "  (layerNN3): Linear(in_features=16, out_features=2, bias=True)\n",
      ")\n"
     ]
    }
   ],
   "source": [
    "class Net(nn.Module):\n",
    "    def __init__(self):\n",
    "        super(Net, self).__init__()\n",
    "        self.layer1 = GCNLayer(16, 64)\n",
    "        self.layer2 = GCNLayer(64, 16)\n",
    "        self.layer3 = GCNLayer(16,16)\n",
    "        self.layerNN1 = nn.Linear(16,64)\n",
    "        self.layerNN2 = nn.Linear(64,16)\n",
    "        self.layerNN3 = nn.Linear(16,2)\n",
    "\n",
    "    def forward(self, g, features):\n",
    "        x = F.logsigmoid(self.layer1(g, features))\n",
    "        x = F.logsigmoid(self.layer2(g, x))\n",
    "        x = F.logsigmoid(self.layer3(g, x))\n",
    "        x = F.logsigmoid(self.layerNN1(x))\n",
    "        x = F.logsigmoid(self.layerNN2(x))\n",
    "        x = self.layerNN3(x)\n",
    "        return x\n",
    "net = Net()\n",
    "print(net)"
   ]
  },
  {
   "cell_type": "code",
   "execution_count": 83,
   "metadata": {},
   "outputs": [],
   "source": [
    "# evaluate accuracy when tuning parameters\n",
    "def evaluate(model, g, features, labels, mask):\n",
    "    model.eval()\n",
    "    with torch.no_grad():\n",
    "        logits = model(g, features)\n",
    "        logits = logits[mask]\n",
    "        labels = labels[mask]\n",
    "        _, indices = torch.max(logits, dim=1)\n",
    "        correct = torch.sum(indices == labels)\n",
    "        return correct.item() * 1.0 / len(labels)"
   ]
  },
  {
   "cell_type": "code",
   "execution_count": 84,
   "metadata": {},
   "outputs": [],
   "source": [
    "g, features, labels, train_mask, test_mask = load_dgl_data(g_trackNet)\n",
    "# Add edges between each node and itself to preserve old node representations\n",
    "g.add_edges(g.nodes(), g.nodes())"
   ]
  },
  {
   "cell_type": "code",
   "execution_count": 134,
   "metadata": {},
   "outputs": [],
   "source": [
    "# torch.manual_seed(0)\n",
    "# np.random.seed(0)\n",
    "optimizer = torch.optim.Adam(net.parameters(), lr=1e-3)"
   ]
  },
  {
   "cell_type": "code",
   "execution_count": 135,
   "metadata": {},
   "outputs": [
    {
     "name": "stdout",
     "output_type": "stream",
     "text": [
      "Epoch 00000 | Loss 0.5200 | Test Acc 0.7260\n",
      "Epoch 00010 | Loss 0.5142 | Test Acc 0.7317\n",
      "Epoch 00020 | Loss 0.5081 | Test Acc 0.7364\n",
      "Epoch 00030 | Loss 0.5004 | Test Acc 0.7448\n",
      "Epoch 00040 | Loss 0.4895 | Test Acc 0.7512\n",
      "Epoch 00050 | Loss 0.4809 | Test Acc 0.7583\n",
      "Epoch 00060 | Loss 0.4750 | Test Acc 0.7632\n",
      "Epoch 00070 | Loss 0.4712 | Test Acc 0.7662\n",
      "Epoch 00080 | Loss 0.4683 | Test Acc 0.7630\n",
      "Epoch 00090 | Loss 0.4661 | Test Acc 0.7620\n",
      "Epoch 00100 | Loss 0.4645 | Test Acc 0.7635\n",
      "Epoch 00110 | Loss 0.4630 | Test Acc 0.7657\n",
      "Epoch 00120 | Loss 0.4630 | Test Acc 0.7650\n",
      "Epoch 00130 | Loss 0.4616 | Test Acc 0.7660\n",
      "Epoch 00140 | Loss 0.4605 | Test Acc 0.7664\n",
      "Epoch 00150 | Loss 0.4597 | Test Acc 0.7672\n",
      "Epoch 00160 | Loss 0.4589 | Test Acc 0.7669\n",
      "Epoch 00170 | Loss 0.4583 | Test Acc 0.7652\n",
      "Epoch 00180 | Loss 0.4578 | Test Acc 0.7642\n",
      "Epoch 00190 | Loss 0.4571 | Test Acc 0.7660\n"
     ]
    }
   ],
   "source": [
    "for epoch in range(200):\n",
    "\n",
    "    net.train()\n",
    "    logits = net(g, features)\n",
    "    logp = F.log_softmax(logits, 1)\n",
    "    loss = F.nll_loss(logp[train_mask], labels[train_mask])\n",
    "\n",
    "    optimizer.zero_grad()\n",
    "    loss.backward()\n",
    "    optimizer.step()\n",
    "\n",
    "    acc = evaluate(net, g, features, labels, test_mask)\n",
    "    if epoch%10 == 0:\n",
    "        print(\"Epoch {:05d} | Loss {:.4f} | Test Acc {:.4f}\".format(epoch, loss.item(), acc))"
   ]
  },
  {
   "cell_type": "code",
   "execution_count": 136,
   "metadata": {},
   "outputs": [],
   "source": [
    "# calc metrics for final model\n",
    "def evaluate2(model, g, features, labels, mask):\n",
    "    model.eval()\n",
    "    with torch.no_grad():\n",
    "        logits = model(g, features)\n",
    "        logits = logits[mask]\n",
    "        labels = labels[mask]\n",
    "        _, indices = torch.max(logits, dim=1)\n",
    "        correct = torch.sum(indices == labels)\n",
    "        true_labels = indices[torch.where(indices == labels)]\n",
    "        false_labels = indices[torch.where(indices != labels)]\n",
    "        true_negative = torch.sum(true_labels == 0)\n",
    "        true_positive = torch.sum(true_labels == 1)\n",
    "        false_positive = torch.sum(false_labels == 1)\n",
    "        false_negative = torch.sum(false_labels == 0)\n",
    "        acc = correct.item() * 1.0 / len(labels)\n",
    "        precision = true_positive.item() * 1.0 / (true_positive.item() + false_positive.item())\n",
    "        recall = true_positive.item() * 1.0 / (true_positive.item() + false_negative.item())\n",
    "        F1 = 2 * ((precision * recall)/(precision + recall))\n",
    "        return acc, precision, recall, F1"
   ]
  },
  {
   "cell_type": "code",
   "execution_count": 137,
   "metadata": {
    "scrolled": false
   },
   "outputs": [
    {
     "name": "stdout",
     "output_type": "stream",
     "text": [
      "GCN: accuracy 76.47%, F1 0.78, precision 72.26%, recall 84.49%\n"
     ]
    }
   ],
   "source": [
    "acc, precision, recall, F1 = evaluate2(net, g, features, labels, test_mask)\n",
    "print(\"GCN: accuracy {:.2f}%\".format(acc * 100) + \", F1 {:.2f}\".format(F1) + \", precision {:.2f}%\".format(precision*100) + \", recall {:.2f}%\".format(recall*100))"
   ]
  },
  {
   "cell_type": "code",
   "execution_count": 120,
   "metadata": {},
   "outputs": [
    {
     "name": "stdout",
     "output_type": "stream",
     "text": [
      "8573421760787922685\n"
     ]
    }
   ],
   "source": [
    "# print(torch.seed())"
   ]
  }
 ],
 "metadata": {
  "kernelspec": {
   "display_name": "Python 3",
   "language": "python",
   "name": "python3"
  },
  "language_info": {
   "codemirror_mode": {
    "name": "ipython",
    "version": 3
   },
   "file_extension": ".py",
   "mimetype": "text/x-python",
   "name": "python",
   "nbconvert_exporter": "python",
   "pygments_lexer": "ipython3",
   "version": "3.7.9"
  }
 },
 "nbformat": 4,
 "nbformat_minor": 2
}
