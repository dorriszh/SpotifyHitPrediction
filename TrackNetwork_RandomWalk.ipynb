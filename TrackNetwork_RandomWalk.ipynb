{
 "cells": [
  {
   "cell_type": "code",
   "execution_count": 1,
   "metadata": {
    "collapsed": false
   },
   "outputs": [
    {
     "name": "stderr",
     "output_type": "stream",
     "text": [
      "/Users/shirley/anaconda/lib/python3.6/site-packages/pandas/compat/_optional.py:106: UserWarning: Pandas requires version '1.2.1' or newer of 'bottleneck' (version '1.2.0' currently installed).\n",
      "  warnings.warn(msg, UserWarning)\n"
     ]
    }
   ],
   "source": [
    "import numpy as np\n",
    "import pandas as pd\n",
    "import matplotlib.pyplot as plt\n",
    "import networkx as nx\n",
    "from sklearn.preprocessing import StandardScaler\n",
    "from sklearn.preprocessing import normalize\n",
    "from collections import Counter\n",
    "%matplotlib inline"
   ]
  },
  {
   "cell_type": "code",
   "execution_count": 2,
   "metadata": {
    "collapsed": true
   },
   "outputs": [],
   "source": [
    "dfs = [pd.read_csv(f'archive/dataset-of-{decade}0s.csv') for decade in ['6', '7', '8', '9', '0', '1']]\n",
    "\n",
    "for i, decade in enumerate([1960, 1970, 1980, 1990, 2000, 2010]):\n",
    "    dfs[i]['decade'] = pd.Series(decade, index=dfs[i].index)\n",
    "\n",
    "data = pd.concat(dfs, axis=0).sample(frac=1.0, random_state=1).reset_index(drop=True)\n",
    "data = data.dropna('columns')"
   ]
  },
  {
   "cell_type": "code",
   "execution_count": 3,
   "metadata": {
    "collapsed": true
   },
   "outputs": [],
   "source": [
    "def split_artists(data):\n",
    "    for index, row in data.iterrows():\n",
    "        if type(row['artist'])==list:\n",
    "            break\n",
    "        artists = [row['artist']]\n",
    "\n",
    "        def check(s, artists):\n",
    "            artists_list = []\n",
    "            for item in artists:\n",
    "                if s in item:\n",
    "                    artists_list += item.split(s)\n",
    "                    #print(s,' ', item,' ',artists_list)\n",
    "                else:\n",
    "                    artists_list.append(item)\n",
    "            return artists_list\n",
    "\n",
    "        artists = check('Featuring', artists)\n",
    "        artists = check('featuring', artists)\n",
    "        artists = check('Feat.', artists)\n",
    "        artists = check(',', artists)\n",
    "        #artists = check('+', artists)\n",
    "        data.at[index, 'artist'] = artists\n",
    "    return data\n",
    "\n",
    "data = split_artists(data.copy())"
   ]
  },
  {
   "cell_type": "code",
   "execution_count": 4,
   "metadata": {
    "collapsed": false
   },
   "outputs": [
    {
     "data": {
      "text/html": [
       "<div>\n",
       "<style scoped>\n",
       "    .dataframe tbody tr th:only-of-type {\n",
       "        vertical-align: middle;\n",
       "    }\n",
       "\n",
       "    .dataframe tbody tr th {\n",
       "        vertical-align: top;\n",
       "    }\n",
       "\n",
       "    .dataframe thead th {\n",
       "        text-align: right;\n",
       "    }\n",
       "</style>\n",
       "<table border=\"1\" class=\"dataframe\">\n",
       "  <thead>\n",
       "    <tr style=\"text-align: right;\">\n",
       "      <th></th>\n",
       "      <th>track</th>\n",
       "      <th>artist</th>\n",
       "      <th>uri</th>\n",
       "      <th>danceability</th>\n",
       "      <th>energy</th>\n",
       "      <th>key</th>\n",
       "      <th>loudness</th>\n",
       "      <th>mode</th>\n",
       "      <th>speechiness</th>\n",
       "      <th>acousticness</th>\n",
       "      <th>instrumentalness</th>\n",
       "      <th>liveness</th>\n",
       "      <th>valence</th>\n",
       "      <th>tempo</th>\n",
       "      <th>duration_ms</th>\n",
       "      <th>time_signature</th>\n",
       "      <th>chorus_hit</th>\n",
       "      <th>sections</th>\n",
       "      <th>target</th>\n",
       "      <th>decade</th>\n",
       "    </tr>\n",
       "  </thead>\n",
       "  <tbody>\n",
       "    <tr>\n",
       "      <th>0</th>\n",
       "      <td>Hard Working Woman - Live / 1983</td>\n",
       "      <td>[Otis Clay]</td>\n",
       "      <td>spotify:track:2g8zPTDvSWlYTZs9ylQQ9L</td>\n",
       "      <td>0.574</td>\n",
       "      <td>0.7630</td>\n",
       "      <td>8</td>\n",
       "      <td>-11.921</td>\n",
       "      <td>0</td>\n",
       "      <td>0.0467</td>\n",
       "      <td>0.23400</td>\n",
       "      <td>0.000039</td>\n",
       "      <td>0.5720</td>\n",
       "      <td>0.916</td>\n",
       "      <td>126.158</td>\n",
       "      <td>364333</td>\n",
       "      <td>4</td>\n",
       "      <td>27.85422</td>\n",
       "      <td>11</td>\n",
       "      <td>0</td>\n",
       "      <td>1980</td>\n",
       "    </tr>\n",
       "    <tr>\n",
       "      <th>1</th>\n",
       "      <td>Quatuor pour la fin du temps (Quartet for the ...</td>\n",
       "      <td>[Olivier Messiaen]</td>\n",
       "      <td>spotify:track:2Ow0yMUSccQ4vmfq8pyCCF</td>\n",
       "      <td>0.121</td>\n",
       "      <td>0.0238</td>\n",
       "      <td>4</td>\n",
       "      <td>-28.614</td>\n",
       "      <td>1</td>\n",
       "      <td>0.0400</td>\n",
       "      <td>0.97800</td>\n",
       "      <td>0.910000</td>\n",
       "      <td>0.0771</td>\n",
       "      <td>0.030</td>\n",
       "      <td>95.821</td>\n",
       "      <td>420040</td>\n",
       "      <td>4</td>\n",
       "      <td>32.71495</td>\n",
       "      <td>20</td>\n",
       "      <td>0</td>\n",
       "      <td>2000</td>\n",
       "    </tr>\n",
       "    <tr>\n",
       "      <th>2</th>\n",
       "      <td>Wokeuplikethis*</td>\n",
       "      <td>[Playboi Carti ,  Lil Uzi Vert]</td>\n",
       "      <td>spotify:track:59J5nzL1KniFHnU120dQzt</td>\n",
       "      <td>0.785</td>\n",
       "      <td>0.6200</td>\n",
       "      <td>8</td>\n",
       "      <td>-6.668</td>\n",
       "      <td>1</td>\n",
       "      <td>0.2540</td>\n",
       "      <td>0.01380</td>\n",
       "      <td>0.000000</td>\n",
       "      <td>0.1500</td>\n",
       "      <td>0.478</td>\n",
       "      <td>78.476</td>\n",
       "      <td>235535</td>\n",
       "      <td>4</td>\n",
       "      <td>28.46889</td>\n",
       "      <td>13</td>\n",
       "      <td>1</td>\n",
       "      <td>2010</td>\n",
       "    </tr>\n",
       "    <tr>\n",
       "      <th>3</th>\n",
       "      <td>Plug Walk</td>\n",
       "      <td>[Rich The Kid]</td>\n",
       "      <td>spotify:track:1ZAyjvIk9YiD76yYy0TEG6</td>\n",
       "      <td>0.876</td>\n",
       "      <td>0.5190</td>\n",
       "      <td>11</td>\n",
       "      <td>-6.531</td>\n",
       "      <td>1</td>\n",
       "      <td>0.1430</td>\n",
       "      <td>0.20200</td>\n",
       "      <td>0.000000</td>\n",
       "      <td>0.1080</td>\n",
       "      <td>0.158</td>\n",
       "      <td>94.981</td>\n",
       "      <td>175230</td>\n",
       "      <td>4</td>\n",
       "      <td>20.94400</td>\n",
       "      <td>9</td>\n",
       "      <td>1</td>\n",
       "      <td>2010</td>\n",
       "    </tr>\n",
       "    <tr>\n",
       "      <th>4</th>\n",
       "      <td>Key Largo</td>\n",
       "      <td>[Bertie Higgins]</td>\n",
       "      <td>spotify:track:41v56RunWqxgqTD4H2cwOD</td>\n",
       "      <td>0.503</td>\n",
       "      <td>0.6590</td>\n",
       "      <td>0</td>\n",
       "      <td>-6.829</td>\n",
       "      <td>1</td>\n",
       "      <td>0.0356</td>\n",
       "      <td>0.44300</td>\n",
       "      <td>0.000000</td>\n",
       "      <td>0.1530</td>\n",
       "      <td>0.330</td>\n",
       "      <td>101.668</td>\n",
       "      <td>198947</td>\n",
       "      <td>4</td>\n",
       "      <td>21.74949</td>\n",
       "      <td>9</td>\n",
       "      <td>1</td>\n",
       "      <td>1980</td>\n",
       "    </tr>\n",
       "    <tr>\n",
       "      <th>...</th>\n",
       "      <td>...</td>\n",
       "      <td>...</td>\n",
       "      <td>...</td>\n",
       "      <td>...</td>\n",
       "      <td>...</td>\n",
       "      <td>...</td>\n",
       "      <td>...</td>\n",
       "      <td>...</td>\n",
       "      <td>...</td>\n",
       "      <td>...</td>\n",
       "      <td>...</td>\n",
       "      <td>...</td>\n",
       "      <td>...</td>\n",
       "      <td>...</td>\n",
       "      <td>...</td>\n",
       "      <td>...</td>\n",
       "      <td>...</td>\n",
       "      <td>...</td>\n",
       "      <td>...</td>\n",
       "      <td>...</td>\n",
       "    </tr>\n",
       "    <tr>\n",
       "      <th>41006</th>\n",
       "      <td>Kiko</td>\n",
       "      <td>[Jimmy McGriff]</td>\n",
       "      <td>spotify:track:7oHFJ7VuwjeAvEgQbEmM8r</td>\n",
       "      <td>0.853</td>\n",
       "      <td>0.6300</td>\n",
       "      <td>5</td>\n",
       "      <td>-14.193</td>\n",
       "      <td>1</td>\n",
       "      <td>0.0894</td>\n",
       "      <td>0.18700</td>\n",
       "      <td>0.868000</td>\n",
       "      <td>0.1120</td>\n",
       "      <td>0.882</td>\n",
       "      <td>115.674</td>\n",
       "      <td>164467</td>\n",
       "      <td>4</td>\n",
       "      <td>47.68413</td>\n",
       "      <td>8</td>\n",
       "      <td>1</td>\n",
       "      <td>1960</td>\n",
       "    </tr>\n",
       "    <tr>\n",
       "      <th>41007</th>\n",
       "      <td>How We Do</td>\n",
       "      <td>[The Game ,  50 Cent]</td>\n",
       "      <td>spotify:track:4PmMVdIFpJTB9WQbmILf4p</td>\n",
       "      <td>0.862</td>\n",
       "      <td>0.6480</td>\n",
       "      <td>4</td>\n",
       "      <td>-7.401</td>\n",
       "      <td>0</td>\n",
       "      <td>0.2510</td>\n",
       "      <td>0.04550</td>\n",
       "      <td>0.000000</td>\n",
       "      <td>0.0332</td>\n",
       "      <td>0.637</td>\n",
       "      <td>98.012</td>\n",
       "      <td>235533</td>\n",
       "      <td>4</td>\n",
       "      <td>23.35783</td>\n",
       "      <td>12</td>\n",
       "      <td>1</td>\n",
       "      <td>2000</td>\n",
       "    </tr>\n",
       "    <tr>\n",
       "      <th>41008</th>\n",
       "      <td>G. Rossini: Der Barbier von Sevilla/Die Verleu...</td>\n",
       "      <td>[Staatskapelle Berlin]</td>\n",
       "      <td>spotify:track:41C2tPBf2JmHafRunOkNVk</td>\n",
       "      <td>0.349</td>\n",
       "      <td>0.1230</td>\n",
       "      <td>0</td>\n",
       "      <td>-19.248</td>\n",
       "      <td>1</td>\n",
       "      <td>0.1000</td>\n",
       "      <td>0.91000</td>\n",
       "      <td>0.000035</td>\n",
       "      <td>0.1330</td>\n",
       "      <td>0.157</td>\n",
       "      <td>76.240</td>\n",
       "      <td>268907</td>\n",
       "      <td>3</td>\n",
       "      <td>48.43741</td>\n",
       "      <td>11</td>\n",
       "      <td>0</td>\n",
       "      <td>1960</td>\n",
       "    </tr>\n",
       "    <tr>\n",
       "      <th>41009</th>\n",
       "      <td>Bella Ciao (Lied der italienischen Partisanen)</td>\n",
       "      <td>[Hannes Wader]</td>\n",
       "      <td>spotify:track:2OYLSRaVD3Dp35NwoS1b8r</td>\n",
       "      <td>0.457</td>\n",
       "      <td>0.5740</td>\n",
       "      <td>9</td>\n",
       "      <td>-16.066</td>\n",
       "      <td>1</td>\n",
       "      <td>0.2590</td>\n",
       "      <td>0.79300</td>\n",
       "      <td>0.000000</td>\n",
       "      <td>0.7590</td>\n",
       "      <td>0.709</td>\n",
       "      <td>109.195</td>\n",
       "      <td>196333</td>\n",
       "      <td>4</td>\n",
       "      <td>37.54967</td>\n",
       "      <td>9</td>\n",
       "      <td>0</td>\n",
       "      <td>1970</td>\n",
       "    </tr>\n",
       "    <tr>\n",
       "      <th>41010</th>\n",
       "      <td>Asik Vaysel</td>\n",
       "      <td>[Joe Satriani]</td>\n",
       "      <td>spotify:track:0CYKwYQwbc7QZOB1gzNt7B</td>\n",
       "      <td>0.318</td>\n",
       "      <td>0.9510</td>\n",
       "      <td>9</td>\n",
       "      <td>-6.863</td>\n",
       "      <td>1</td>\n",
       "      <td>0.0717</td>\n",
       "      <td>0.00783</td>\n",
       "      <td>0.945000</td>\n",
       "      <td>0.3120</td>\n",
       "      <td>0.345</td>\n",
       "      <td>179.077</td>\n",
       "      <td>462213</td>\n",
       "      <td>4</td>\n",
       "      <td>30.95042</td>\n",
       "      <td>18</td>\n",
       "      <td>0</td>\n",
       "      <td>2000</td>\n",
       "    </tr>\n",
       "  </tbody>\n",
       "</table>\n",
       "<p>41011 rows × 20 columns</p>\n",
       "</div>"
      ],
      "text/plain": [
       "                                                   track  \\\n",
       "0                       Hard Working Woman - Live / 1983   \n",
       "1      Quatuor pour la fin du temps (Quartet for the ...   \n",
       "2                                        Wokeuplikethis*   \n",
       "3                                              Plug Walk   \n",
       "4                                              Key Largo   \n",
       "...                                                  ...   \n",
       "41006                                               Kiko   \n",
       "41007                                          How We Do   \n",
       "41008  G. Rossini: Der Barbier von Sevilla/Die Verleu...   \n",
       "41009     Bella Ciao (Lied der italienischen Partisanen)   \n",
       "41010                                        Asik Vaysel   \n",
       "\n",
       "                                artist                                   uri  \\\n",
       "0                          [Otis Clay]  spotify:track:2g8zPTDvSWlYTZs9ylQQ9L   \n",
       "1                   [Olivier Messiaen]  spotify:track:2Ow0yMUSccQ4vmfq8pyCCF   \n",
       "2      [Playboi Carti ,  Lil Uzi Vert]  spotify:track:59J5nzL1KniFHnU120dQzt   \n",
       "3                       [Rich The Kid]  spotify:track:1ZAyjvIk9YiD76yYy0TEG6   \n",
       "4                     [Bertie Higgins]  spotify:track:41v56RunWqxgqTD4H2cwOD   \n",
       "...                                ...                                   ...   \n",
       "41006                  [Jimmy McGriff]  spotify:track:7oHFJ7VuwjeAvEgQbEmM8r   \n",
       "41007            [The Game ,  50 Cent]  spotify:track:4PmMVdIFpJTB9WQbmILf4p   \n",
       "41008           [Staatskapelle Berlin]  spotify:track:41C2tPBf2JmHafRunOkNVk   \n",
       "41009                   [Hannes Wader]  spotify:track:2OYLSRaVD3Dp35NwoS1b8r   \n",
       "41010                   [Joe Satriani]  spotify:track:0CYKwYQwbc7QZOB1gzNt7B   \n",
       "\n",
       "       danceability  energy  key  loudness  mode  speechiness  acousticness  \\\n",
       "0             0.574  0.7630    8   -11.921     0       0.0467       0.23400   \n",
       "1             0.121  0.0238    4   -28.614     1       0.0400       0.97800   \n",
       "2             0.785  0.6200    8    -6.668     1       0.2540       0.01380   \n",
       "3             0.876  0.5190   11    -6.531     1       0.1430       0.20200   \n",
       "4             0.503  0.6590    0    -6.829     1       0.0356       0.44300   \n",
       "...             ...     ...  ...       ...   ...          ...           ...   \n",
       "41006         0.853  0.6300    5   -14.193     1       0.0894       0.18700   \n",
       "41007         0.862  0.6480    4    -7.401     0       0.2510       0.04550   \n",
       "41008         0.349  0.1230    0   -19.248     1       0.1000       0.91000   \n",
       "41009         0.457  0.5740    9   -16.066     1       0.2590       0.79300   \n",
       "41010         0.318  0.9510    9    -6.863     1       0.0717       0.00783   \n",
       "\n",
       "       instrumentalness  liveness  valence    tempo  duration_ms  \\\n",
       "0              0.000039    0.5720    0.916  126.158       364333   \n",
       "1              0.910000    0.0771    0.030   95.821       420040   \n",
       "2              0.000000    0.1500    0.478   78.476       235535   \n",
       "3              0.000000    0.1080    0.158   94.981       175230   \n",
       "4              0.000000    0.1530    0.330  101.668       198947   \n",
       "...                 ...       ...      ...      ...          ...   \n",
       "41006          0.868000    0.1120    0.882  115.674       164467   \n",
       "41007          0.000000    0.0332    0.637   98.012       235533   \n",
       "41008          0.000035    0.1330    0.157   76.240       268907   \n",
       "41009          0.000000    0.7590    0.709  109.195       196333   \n",
       "41010          0.945000    0.3120    0.345  179.077       462213   \n",
       "\n",
       "       time_signature  chorus_hit  sections  target  decade  \n",
       "0                   4    27.85422        11       0    1980  \n",
       "1                   4    32.71495        20       0    2000  \n",
       "2                   4    28.46889        13       1    2010  \n",
       "3                   4    20.94400         9       1    2010  \n",
       "4                   4    21.74949         9       1    1980  \n",
       "...               ...         ...       ...     ...     ...  \n",
       "41006               4    47.68413         8       1    1960  \n",
       "41007               4    23.35783        12       1    2000  \n",
       "41008               3    48.43741        11       0    1960  \n",
       "41009               4    37.54967         9       0    1970  \n",
       "41010               4    30.95042        18       0    2000  \n",
       "\n",
       "[41011 rows x 20 columns]"
      ]
     },
     "execution_count": 4,
     "metadata": {},
     "output_type": "execute_result"
    }
   ],
   "source": [
    "data"
   ]
  },
  {
   "cell_type": "code",
   "execution_count": 5,
   "metadata": {
    "collapsed": false
   },
   "outputs": [
    {
     "data": {
      "text/plain": [
       "40560"
      ]
     },
     "execution_count": 5,
     "metadata": {},
     "output_type": "execute_result"
    }
   ],
   "source": [
    "d = dict(data['uri'].value_counts())\n",
    "len(d.keys())"
   ]
  },
  {
   "cell_type": "code",
   "execution_count": 6,
   "metadata": {
    "collapsed": true
   },
   "outputs": [],
   "source": [
    "#data.loc[data['uri']=='spotify:track:7tFiyTwD0nx5a1eklYtX2J']"
   ]
  },
  {
   "cell_type": "code",
   "execution_count": 7,
   "metadata": {
    "collapsed": true
   },
   "outputs": [],
   "source": [
    "# drop duplicate uri\n",
    "drop_list = []\n",
    "for k, v in d.items():\n",
    "    if d[k]>1:\n",
    "        decade = min(data.loc[data['uri']==k]['decade'])\n",
    "        for index, row in data.loc[data['uri']==k].iterrows():\n",
    "            if row['decade']>decade:\n",
    "                drop_list.append(index)\n",
    "data = data.drop(drop_list).reset_index()"
   ]
  },
  {
   "cell_type": "code",
   "execution_count": 8,
   "metadata": {
    "collapsed": false
   },
   "outputs": [
    {
     "name": "stdout",
     "output_type": "stream",
     "text": [
      "<class 'pandas.core.frame.DataFrame'>\n",
      "RangeIndex: 40560 entries, 0 to 40559\n",
      "Data columns (total 20 columns):\n",
      "track               40560 non-null object\n",
      "artist              40560 non-null object\n",
      "uri                 40560 non-null object\n",
      "danceability        40560 non-null float64\n",
      "energy              40560 non-null float64\n",
      "key                 40560 non-null int64\n",
      "loudness            40560 non-null float64\n",
      "mode                40560 non-null int64\n",
      "speechiness         40560 non-null float64\n",
      "acousticness        40560 non-null float64\n",
      "instrumentalness    40560 non-null float64\n",
      "liveness            40560 non-null float64\n",
      "valence             40560 non-null float64\n",
      "tempo               40560 non-null float64\n",
      "duration_ms         40560 non-null int64\n",
      "time_signature      40560 non-null int64\n",
      "chorus_hit          40560 non-null float64\n",
      "sections            40560 non-null int64\n",
      "target              40560 non-null int64\n",
      "decade              40560 non-null int64\n",
      "dtypes: float64(10), int64(7), object(3)\n",
      "memory usage: 6.2+ MB\n"
     ]
    }
   ],
   "source": [
    "data=data.drop(['index'], axis=1)\n",
    "data.info()"
   ]
  },
  {
   "cell_type": "markdown",
   "metadata": {},
   "source": [
    "## Data Analysis"
   ]
  },
  {
   "cell_type": "code",
   "execution_count": 9,
   "metadata": {
    "collapsed": true
   },
   "outputs": [],
   "source": [
    "# label_dict = {}\n",
    "# embedding_dict = {}\n",
    "newdata = data.loc[data['decade']==2010]\n",
    "\n",
    "label = newdata['target']\n",
    "\n",
    "features = newdata.drop(['track', 'artist', 'uri','target'], axis=1).values\n",
    "scalar = StandardScaler()\n",
    "scalar.fit(features)\n",
    "features = scalar.transform(features)\n",
    "\n",
    "# for index, row in data.iterrows():\n",
    "#     label_dict[row['uri']] = row['target']\n",
    "#     embedding_dict[row['uri']] = features[index]"
   ]
  },
  {
   "cell_type": "code",
   "execution_count": 10,
   "metadata": {
    "collapsed": true
   },
   "outputs": [],
   "source": [
    "n = len(list(label))\n",
    "G = nx.Graph()\n",
    "#nodes_list = list(data['uri'])\n",
    "G.add_nodes_from(list(range(n)))"
   ]
  },
  {
   "cell_type": "code",
   "execution_count": 18,
   "metadata": {
    "collapsed": false
   },
   "outputs": [
    {
     "name": "stdout",
     "output_type": "stream",
     "text": [
      "36449\n"
     ]
    }
   ],
   "source": [
    "# for i in range(n):\n",
    "#     if i%1000==1:\n",
    "#         print('####Processing: ', i)\n",
    "#     v1 = features[i]\n",
    "    \n",
    "#     for j in range(n):\n",
    "#         v1 = embedding_dict[i]\n",
    "#         v2 = embedding_dict[j]\n",
    "#         similarity = abs(v1@v2/(np.linalg.norm(v1)*np.linalg.norm(v2)))\n",
    "#         if similarity>1.000001:\n",
    "#             print(v1, ' ',v2,' ', similarity)\n",
    "#         if similarity>0.5:\n",
    "#             G.add_edge(i, j)\n",
    "nfeatures = normalize(features, norm=\"l2\")\n",
    "similarity = np.triu(np.array(nfeatures@nfeatures.T),1)\n",
    "t = np.max(similarity)*0.85\n",
    "x, y = np.where(similarity>t)\n",
    "edges = list(zip(list(x), list(y)))\n",
    "print(len(edges))\n",
    "G.add_edges_from(edges)\n",
    "# print('nodes: ',,', edges:',G.number_of_edges())"
   ]
  },
  {
   "cell_type": "code",
   "execution_count": 19,
   "metadata": {
    "collapsed": false
   },
   "outputs": [
    {
     "name": "stdout",
     "output_type": "stream",
     "text": [
      "=== Network statistics ===\n",
      "Number of nodes: 6262\n",
      "Number of edges: 36449\n",
      "Network density: 0.0019\n",
      "Transitivity: 0.4224\n",
      "Average Clustering Coefficient: 0.3060\n",
      "======\n"
     ]
    }
   ],
   "source": [
    "density = nx.density(G)\n",
    "transitivity = nx.transitivity(G)\n",
    "average_clustering_coefficient = nx.average_clustering(G)\n",
    "\n",
    "#############################################################\n",
    "print (f'=== Network statistics ===')\n",
    "\n",
    "print (f'Number of nodes: {G.number_of_nodes()}')\n",
    "print (f'Number of edges: {G.number_of_edges()}')\n",
    "print (f'Network density: {density:.4f}')\n",
    "print (f'Transitivity: {transitivity:.4f}')\n",
    "print (f'Average Clustering Coefficient: {average_clustering_coefficient:.4f}')\n",
    "print (f'======')"
   ]
  },
  {
   "cell_type": "code",
   "execution_count": 20,
   "metadata": {
    "collapsed": true
   },
   "outputs": [],
   "source": [
    "def get_degrees (net):\n",
    "    degrees = [val for (node, val) in net.degree().items()]\n",
    "    degree_sequence = np.array(degrees)\n",
    "    return degree_sequence\n",
    "def plot_degree_distribution (net, color='r'):\n",
    "\n",
    "    degree_sequence = get_degrees (net)\n",
    "    num_of_nodes = Counter(degree_sequence)\n",
    "    x_vals = list(num_of_nodes.keys())\n",
    "    y_vals = [val for (key, val) in num_of_nodes.items()]\n",
    "    print(x_vals[0],y_vals[0])\n",
    "    print(len(x_vals))\n",
    "    \n",
    "    plt.plot(x_vals, y_vals, color, linestyle='None', marker='o', markersize=2.0)\n",
    "    plt.xscale(\"log\")\n",
    "    plt.yscale(\"log\")\n",
    "    plt.xlabel ('Degree')\n",
    "    plt.ylabel ('Number of nodes with degree')\n",
    "    plt.title ('Degree distribution on log-log scale')\n",
    "    "
   ]
  },
  {
   "cell_type": "code",
   "execution_count": 21,
   "metadata": {
    "collapsed": false
   },
   "outputs": [
    {
     "name": "stdout",
     "output_type": "stream",
     "text": [
      "8 255\n",
      "112\n"
     ]
    },
    {
     "data": {
      "image/png": "[encoded data removed]",
      "text/plain": [
       "<matplotlib.figure.Figure at 0x7fea18480f60>"
      ]
     },
     "metadata": {},
     "output_type": "display_data"
    }
   ],
   "source": [
    "plot_degree_distribution (G, color='b')"
   ]
  },
  {
   "cell_type": "code",
   "execution_count": 48,
   "metadata": {
    "collapsed": true
   },
   "outputs": [],
   "source": [
    "n = len(list(label))\n",
    "G2 = nx.Graph()\n",
    "#nodes_list = list(data['uri'])\n",
    "G2.add_nodes_from(list(range(n)))"
   ]
  },
  {
   "cell_type": "code",
   "execution_count": 49,
   "metadata": {
    "collapsed": false
   },
   "outputs": [
    {
     "name": "stdout",
     "output_type": "stream",
     "text": [
      "####Processing:  1\n",
      "####Processing:  1001\n",
      "####Processing:  2001\n",
      "####Processing:  3001\n",
      "####Processing:  4001\n",
      "####Processing:  5001\n",
      "####Processing:  6001\n",
      "29357\n",
      "nodes:  6262 , edges: 29357\n"
     ]
    }
   ],
   "source": [
    "similarity = []\n",
    "for i in range(n):\n",
    "    if i%1000==1:\n",
    "        print('####Processing: ', i)\n",
    "    v1 = np.array(features[i])\n",
    "    s = np.linalg.norm(v1-np.array(features), axis=1)\n",
    "    similarity.append(s)\n",
    "similarity = np.array(similarity).T\n",
    "    \n",
    "#     for j in range(n):\n",
    "#         v1 = embedding_dict[i]\n",
    "#         v2 = embedding_dict[j]\n",
    "#         similarity = abs(v1@v2/(np.linalg.norm(v1)*np.linalg.norm(v2)))\n",
    "#         if similarity>1.000001:\n",
    "#             print(v1, ' ',v2,' ', similarity)\n",
    "#         if similarity>0.5:\n",
    "#             G.add_edge(i, j)\n",
    "t = np.mean(similarity)*0.3\n",
    "x, y = np.where(similarity<t)\n",
    "edges = list(zip(list(x), list(y)))\n",
    "edges = [e for e in edges if e[0]>e[1]]\n",
    "print(len(edges))\n",
    "G2.add_edges_from(edges)\n",
    "print('nodes: ',G2.number_of_nodes(),', edges:',G2.number_of_edges())"
   ]
  },
  {
   "cell_type": "code",
   "execution_count": 50,
   "metadata": {
    "collapsed": false
   },
   "outputs": [
    {
     "name": "stdout",
     "output_type": "stream",
     "text": [
      "=== Network statistics ===\n",
      "Number of nodes: 6262\n",
      "Number of edges: 29357\n",
      "Network density: 0.0015\n",
      "Transitivity: 0.3338\n",
      "Average Clustering Coefficient: 0.1940\n",
      "======\n",
      "4 222\n",
      "114\n"
     ]
    },
    {
     "data": {
      "image/png": "[encoded data removed]",
      "text/plain": [
       "<matplotlib.figure.Figure at 0x7fe9a6118c50>"
      ]
     },
     "metadata": {},
     "output_type": "display_data"
    }
   ],
   "source": [
    "density = nx.density(G2)\n",
    "transitivity = nx.transitivity(G2)\n",
    "average_clustering_coefficient = nx.average_clustering(G2)\n",
    "\n",
    "#############################################################\n",
    "print (f'=== Network statistics ===')\n",
    "\n",
    "print (f'Number of nodes: {G2.number_of_nodes()}')\n",
    "print (f'Number of edges: {G2.number_of_edges()}')\n",
    "print (f'Network density: {density:.4f}')\n",
    "print (f'Transitivity: {transitivity:.4f}')\n",
    "print (f'Average Clustering Coefficient: {average_clustering_coefficient:.4f}')\n",
    "print (f'======')\n",
    "plot_degree_distribution (G2, color='b')"
   ]
  },
  {
   "cell_type": "code",
   "execution_count": 26,
   "metadata": {
    "collapsed": false
   },
   "outputs": [
    {
     "data": {
      "text/plain": [
       "array([[-1, -1, -1],\n",
       "       [-2, -2, -2],\n",
       "       [-3, -5, -6]])"
      ]
     },
     "execution_count": 26,
     "metadata": {},
     "output_type": "execute_result"
    }
   ],
   "source": [
    "np.array([1,1,1])-np.array([[2,2,2],[3,3,3],[4,6,7]])"
   ]
  },
  {
   "cell_type": "markdown",
   "metadata": {
    "collapsed": true
   },
   "source": [
    "## Construct Graph"
   ]
  },
  {
   "cell_type": "code",
   "execution_count": 9,
   "metadata": {
    "collapsed": true
   },
   "outputs": [],
   "source": [
    "scalar = StandardScaler()\n",
    "scalar.fit(data.drop(['track', 'artist', 'uri','target'], axis=1).values)\n",
    "\n",
    "def getDecadeData(decade):\n",
    "    graphData = data.loc[data['decade']==decade]\n",
    "    label = graphData['target']\n",
    "    artist = graphData['artist']\n",
    "    uri = graphData['uri']\n",
    "    track = graphData['track']\n",
    "    features = graphData.drop(['track', 'artist', 'uri','target'], axis=1).values\n",
    "#     scalar = StandardScaler()\n",
    "#     scalar.fit(features)\n",
    "    features = scalar.transform(features)\n",
    "    return features, list(label), list(artist), list(uri), list(track)\n",
    "\n",
    "#getDecadeData(2010)\n",
    "decadesList = [1960,1970,1980,1990,2000,2010]\n",
    "nodeIdOffset = [0]"
   ]
  },
  {
   "cell_type": "code",
   "execution_count": 10,
   "metadata": {
    "collapsed": false
   },
   "outputs": [
    {
     "data": {
      "text/plain": [
       "1960    8625\n",
       "1970    7685\n",
       "1980    6803\n",
       "2010    6262\n",
       "2000    5768\n",
       "1990    5417\n",
       "Name: decade, dtype: int64"
      ]
     },
     "execution_count": 10,
     "metadata": {},
     "output_type": "execute_result"
    }
   ],
   "source": [
    "data['decade'].value_counts()"
   ]
  },
  {
   "cell_type": "code",
   "execution_count": 11,
   "metadata": {
    "collapsed": true
   },
   "outputs": [],
   "source": [
    "def constructGraphWithinDecade(G, threshold):\n",
    "    for i, decade in enumerate(decadesList):\n",
    "        features, label, artist, uri, track = getDecadeData(decade)\n",
    "        n = len(list(label))\n",
    "        offset = nodeIdOffset[i]\n",
    "        for i in range(offset, offset+n):\n",
    "            G.add_node(i, feature=features[i-offset], label=label[i-offset], artist=artist[i-offset], uri=uri[i-offset], track=track[i-offset])\n",
    "        #G.add_nodes_from(list(range(offset, offset+n)))\n",
    "        nodeIdOffset.append(offset+n)\n",
    "        print('Decade ',decade, ' nodes: ',n, ' id range: ',offset,offset+n)\n",
    "  \n",
    "        nfeatures = normalize(features, norm=\"l2\")\n",
    "        similarity = np.triu(np.array(nfeatures@nfeatures.T),1)\n",
    "        t = np.max(similarity)*threshold\n",
    "        x, y = np.where(similarity>t)\n",
    "        x, y = x+offset, y+offset\n",
    "        edges = list(zip(list(x), list(y)))\n",
    "        print('edges: ',len(edges))\n",
    "        G.add_edges_from(edges)"
   ]
  },
  {
   "cell_type": "code",
   "execution_count": 12,
   "metadata": {
    "collapsed": true
   },
   "outputs": [],
   "source": [
    "def constructGraphCrossDecade(G, threshold):\n",
    "    for i in range(1, len(decadesList)):\n",
    "        features1 = getDecadeData(decadesList[i-1])[0]\n",
    "        features2 = getDecadeData(decadesList[i])[0]\n",
    "        \n",
    "        nfeatures1 = normalize(features1, norm=\"l2\")\n",
    "        nfeatures2 = normalize(features2, norm=\"l2\")\n",
    "        #print(nfeatures1.shape, nfeatures2.shape)\n",
    "        similarity = np.triu(np.array(nfeatures1@nfeatures2.T),1)\n",
    "        #print(similarity.shape)\n",
    "        t = np.max(similarity)*threshold\n",
    "        x, y = np.where(similarity>t)\n",
    "        x, y = x+nodeIdOffset[i-1], y+nodeIdOffset[i]\n",
    "        edges = list(zip(list(x), list(y)))\n",
    "        print('Decades: ',decadesList[i-1] ,decadesList[i] ,'edges: ',len(edges))\n",
    "        G.add_edges_from(edges)"
   ]
  },
  {
   "cell_type": "code",
   "execution_count": 13,
   "metadata": {
    "collapsed": false
   },
   "outputs": [
    {
     "name": "stdout",
     "output_type": "stream",
     "text": [
      "Decade  1960  nodes:  8625  id range:  0 8625\n",
      "edges:  202320\n",
      "Decade  1970  nodes:  7685  id range:  8625 16310\n",
      "edges:  65886\n",
      "Decade  1980  nodes:  6803  id range:  16310 23113\n",
      "edges:  54349\n",
      "Decade  1990  nodes:  5417  id range:  23113 28530\n",
      "edges:  31785\n",
      "Decade  2000  nodes:  5768  id range:  28530 34298\n",
      "edges:  69885\n",
      "Decade  2010  nodes:  6262  id range:  34298 40560\n",
      "edges:  118123\n",
      "node:  40560  edges:  542348\n",
      "Decades:  1960 1970 edges:  15986\n",
      "Decades:  1970 1980 edges:  7582\n",
      "Decades:  1980 1990 edges:  5532\n",
      "Decades:  1990 2000 edges:  8480\n",
      "Decades:  2000 2010 edges:  17864\n",
      "node:  40560  edges:  597792\n"
     ]
    }
   ],
   "source": [
    "trackNet = nx.Graph()\n",
    "constructGraphWithinDecade(trackNet, 0.8)\n",
    "print(\"node: \", trackNet.number_of_nodes(), ' edges: ',trackNet.number_of_edges())\n",
    "constructGraphCrossDecade(trackNet, 0.85)\n",
    "print(\"node: \", trackNet.number_of_nodes(), ' edges: ',trackNet.number_of_edges())"
   ]
  },
  {
   "cell_type": "code",
   "execution_count": 14,
   "metadata": {
    "collapsed": false
   },
   "outputs": [
    {
     "name": "stdout",
     "output_type": "stream",
     "text": [
      "=== Network statistics ===\n",
      "Number of nodes: 40560\n",
      "Number of edges: 1535654\n",
      "Network density: 0.0019\n",
      "Transitivity: 0.3645\n",
      "Average Clustering Coefficient: 0.3466\n",
      "======\n"
     ]
    }
   ],
   "source": [
    "# density = nx.density(trackNet)\n",
    "# transitivity = nx.transitivity(trackNet)\n",
    "# average_clustering_coefficient = nx.average_clustering(trackNet)\n",
    "\n",
    "#############################################################\n",
    "print (f'=== Network statistics ===')\n",
    "\n",
    "print (f'Number of nodes: {trackNet.number_of_nodes()}')\n",
    "print (f'Number of edges: {trackNet.number_of_edges()}')\n",
    "\n",
    "# print (f'Network density: {density:.4f}')\n",
    "# print (f'Transitivity: {transitivity:.4f}')\n",
    "# print (f'Average Clustering Coefficient: {average_clustering_coefficient:.4f}')\n",
    "# print (f'======')"
   ]
  },
  {
   "cell_type": "code",
   "execution_count": 15,
   "metadata": {
    "collapsed": true
   },
   "outputs": [],
   "source": [
    "#trackNet.nodes[0]"
   ]
  },
  {
   "cell_type": "code",
   "execution_count": 14,
   "metadata": {
    "collapsed": true
   },
   "outputs": [],
   "source": [
    "#map trackNet node id and artist node id\n",
    "data_artist = []\n",
    "trackNet_ids = trackNet.nodes()\n",
    "for i in trackNet_ids:\n",
    "    data_artist.append(trackNet.nodes[i]['artist'])\n",
    "artist_id_map = {}\n",
    "for index, dlist in enumerate(data_artist):\n",
    "    for d in dlist:\n",
    "        if d not in artist_id_map:\n",
    "            artist_id_map[d] = [index]\n",
    "        else:\n",
    "            artist_id_map[d].append(index)"
   ]
  },
  {
   "cell_type": "code",
   "execution_count": 15,
   "metadata": {
    "collapsed": true
   },
   "outputs": [],
   "source": [
    "#build artist graph\n",
    "artist_node = []\n",
    "artist_edge = []\n",
    "artist_net = nx.Graph()\n",
    "for dlist in data_artist:\n",
    "    for i, d in enumerate(dlist):\n",
    "        if (d not in artist_node):\n",
    "            artist_node.append(d)\n",
    "            artist_net.add_node(d)\n",
    "        for j in range(len(dlist[i+1:-1])):\n",
    "            if [d, dlist[j]] not in artist_edge and [dlist[j],d] not in artist_edge:\n",
    "                artist_edge.append([d, dlist[j]])\n",
    "                artist_net.add_edge(d, dlist[j])"
   ]
  },
  {
   "cell_type": "code",
   "execution_count": 16,
   "metadata": {
    "collapsed": true
   },
   "outputs": [],
   "source": [
    "def print_network_statistics (net):\n",
    "    nodes = len(net.nodes())\n",
    "    edges = len(net.edges())\n",
    "    density = nx.density(net)\n",
    "    transitivity = nx.transitivity(net)\n",
    "    average_clustering_coefficient = nx.average_clustering(net)\n",
    "\n",
    "    print (f'=== Network statistics ===')\n",
    "    print (f'Number of nodes: {nodes}')\n",
    "    print (f'Number of edges: {edges}')\n",
    "    print (f'Network density: {density:.4f}')\n",
    "    print (f'Transitivity: {transitivity:.4f}')\n",
    "    print (f'Average Clustering Coefficient: {average_clustering_coefficient:.4f}')\n",
    "    print (f'======')\n",
    "    \n",
    "#print_network_statistics(artist_net)"
   ]
  },
  {
   "cell_type": "code",
   "execution_count": 17,
   "metadata": {
    "collapsed": true,
    "scrolled": true
   },
   "outputs": [],
   "source": [
    "def GetArtistClusters(artist_net, artist_id_map):\n",
    "    artist_clusters = []\n",
    "    for node in artist_net.nodes():\n",
    "        artists = sorted(list(nx.bfs_tree(artist_net,node)))\n",
    "        if len(artists) > 1 and artists not in artist_clusters:\n",
    "            artist_clusters.append(artists)\n",
    "    artist_clusters_id = []\n",
    "    for cluster in artist_clusters:\n",
    "        id_cluster = []\n",
    "        for name in cluster:\n",
    "            for e in artist_id_map.get(name):\n",
    "                if e not in id_cluster:\n",
    "                    id_cluster.append(e)\n",
    "        artist_clusters_id.append(id_cluster)\n",
    "    return artist_clusters_id\n",
    "artist_clusters_id = GetArtistClusters(artist_net, artist_id_map)"
   ]
  },
  {
   "cell_type": "code",
   "execution_count": 18,
   "metadata": {
    "collapsed": true
   },
   "outputs": [],
   "source": [
    "def AddEdgesFromRelatedArtists(trackNet, artist_clusters_id, threthold):\n",
    "    for cluster in artist_clusters_id:\n",
    "        for i in range(len(cluster)):\n",
    "            for j in range(i,len(cluster)):\n",
    "                nfeatures1 = trackNet.nodes[i]['feature']\n",
    "                nfeatures2 = trackNet.nodes[j]['feature']\n",
    "                similarity = nfeatures1@nfeatures2.T / (np.linalg.norm(nfeatures1) * np.linalg.norm(nfeatures2))\n",
    "                if similarity >= threthold:\n",
    "                    trackNet.add_edge(i,j)\n",
    "AddEdgesFromRelatedArtists(trackNet, artist_clusters_id, 0.6)"
   ]
  },
  {
   "cell_type": "code",
   "execution_count": null,
   "metadata": {
    "collapsed": true
   },
   "outputs": [],
   "source": [
    "print_network_statistics(trackNet)"
   ]
  },
  {
   "cell_type": "markdown",
   "metadata": {},
   "source": [
    "### Node Classification: Random Walk"
   ]
  },
  {
   "cell_type": "code",
   "execution_count": 58,
   "metadata": {
    "collapsed": true
   },
   "outputs": [],
   "source": [
    "from gensim.models import Word2Vec\n",
    "from collections import defaultdict\n",
    "from sklearn.metrics import make_scorer, accuracy_score, roc_auc_score, precision_score, recall_score, f1_score\n",
    "from sklearn.model_selection import train_test_split\n",
    "\n",
    "from sklearn.linear_model import LogisticRegression\n",
    "from sklearn.neighbors import KNeighborsClassifier\n",
    "from sklearn.tree import DecisionTreeClassifier\n",
    "from sklearn.svm import LinearSVC, SVC\n",
    "from sklearn.neural_network import MLPClassifier\n",
    "from sklearn.ensemble import RandomForestClassifier, GradientBoostingClassifier\n",
    "from sklearn.multiclass import OneVsRestClassifier"
   ]
  },
  {
   "cell_type": "code",
   "execution_count": 100,
   "metadata": {
    "collapsed": true
   },
   "outputs": [],
   "source": [
    "def compute_transition_probs(G, p, q):\n",
    "    transition_probs = defaultdict(dict)\n",
    "    for s in G.nodes():\n",
    "        for c in G.neighbors(s):\n",
    "            tp_list = []\n",
    "            for d in G.neighbors(c):\n",
    "                tp = 1.0/q\n",
    "                if s == d:\n",
    "                    tp = 1.0/p\n",
    "                elif G.has_edge(s, d):\n",
    "                    tp = 1.0\n",
    "                tp_list.append(tp)\n",
    "            transition_probs[str(s)][str(c)] = np.array([i/sum(tp_list) for i in tp_list])\n",
    "    return transition_probs\n",
    "\n",
    "def generate_walks(G, transition_probs, walks_per_node, length):\n",
    "    np.random.seed(0)\n",
    "    walks = []\n",
    "    for s in G.nodes():\n",
    "        if list(G.neighbors(s)) == []:\n",
    "            continue\n",
    "        for i in range(walks_per_node):\n",
    "            walk = [str(s)]\n",
    "            neighbors = list(G.neighbors(s))\n",
    "            walk.append(str(np.random.choice(neighbors, 1)[0]))\n",
    "            step = 1\n",
    "        while step<length-1 and list(G.neighbors(int(walk[-1]))) != []:\n",
    "            pre = walk[-2]\n",
    "            curr = walk[-1]\n",
    "            trans_probs = transition_probs[pre][curr]\n",
    "            neighbors = list(G.neighbors(int(curr)))\n",
    "            walk.append(str(np.random.choice(list(neighbors), p=trans_probs)))\n",
    "            step += 1\n",
    "        walks.append(walk)\n",
    "    np.random.shuffle(walks)\n",
    "    return walks\n",
    "\n",
    "def generate_embeddings(walks, dimensions, window_size, num_workers, p, q):\n",
    "    model = Word2Vec(walks, size=dimensions, window=window_size, min_count=0, sg=1, workers=num_workers,seed=0)\n",
    "    embeddings = model.wv\n",
    "    return model, embeddings\n",
    "\n",
    "def Node2vec(p, q, walks, length, workers, d, window):\n",
    "    transition_probs = compute_transition_probs(trackNet, p, q)\n",
    "    walk = generate_walks(trackNet, transition_probs, walks, length)\n",
    "    model, node2vec_embeddings = generate_embeddings(walk, d, window, workers, p, q)\n",
    "    return walk, model, node2vec_embeddings"
   ]
  },
  {
   "cell_type": "code",
   "execution_count": 68,
   "metadata": {
    "collapsed": true
   },
   "outputs": [],
   "source": [
    "p=0.25 # Return parameter\n",
    "q=0.25 # In-out parameter\n",
    "walks=10 # Walks per node\n",
    "length=80 # Length of each walk\n",
    "d=128 # Dimension of output embeddings \n",
    "window=10 # Window size for word2vec\n",
    "workers=4 # Number of workers to assign for random walk and word2vec\n",
    "\n",
    "walk, model, node2vec_embeddings = Node2vec(p, q, walks, length, workers, d, window)"
   ]
  },
  {
   "cell_type": "code",
   "execution_count": 101,
   "metadata": {
    "collapsed": true
   },
   "outputs": [],
   "source": [
    "walk2, model2, node2vec_embeddings2 = Node2vec(p, q, walks, length, workers, 64, window)"
   ]
  },
  {
   "cell_type": "code",
   "execution_count": 69,
   "metadata": {
    "collapsed": true
   },
   "outputs": [],
   "source": [
    "labels = [trackNet.nodes[n]['label'] for n in sorted(list(trackNet.nodes()))]"
   ]
  },
  {
   "cell_type": "code",
   "execution_count": null,
   "metadata": {
    "collapsed": true
   },
   "outputs": [],
   "source": [
    "def evaluate(G, labelsList, word_vec):\n",
    "\n",
    "    classifiers = {}\n",
    "    \n",
    "    embeddings = []\n",
    "    labels = []\n",
    "    cnt = 0\n",
    "    for i, node in enumerate(sorted(list(G.nodes()))):\n",
    "        if str(node) in word_vec.vocab:\n",
    "            embeddings.append(list(word_vec[str(node)])+list(trackNet.nodes[node]['feature']))\n",
    "            #embeddings.append(word_vec[str(node)])\n",
    "            labels.append(labelsList[i])\n",
    "        else:\n",
    "            #embeddings.append([])\n",
    "            cnt+=1\n",
    "    embeddings = np.asarray(embeddings)\n",
    "    print('missing embeddings: ', cnt)\n",
    "\n",
    "    models = {\n",
    "                \"                   Logistic_Regression\": OneVsRestClassifier(LogisticRegression()),\n",
    "                \"                         Decision Tree\": DecisionTreeClassifier(),\n",
    "                \"Support Vector Machine (Linear Kernel)\": LinearSVC(),\n",
    "                \"   Support Vector Machine (RBF Kernel)\": SVC(),\n",
    "                \"                        Neural Network\": MLPClassifier(),\n",
    "                \"                         Random Forest\": RandomForestClassifier()\n",
    "            }\n",
    "    \n",
    "    #X_train, X_test, y_train, y_test = train_test_split(embeddings, labels, train_size=0.7, random_state=1)\n",
    "    X_train, X_test, y_train, y_test = train_test_split(embeddings, labels, train_size=0.7, random_state=42)\n",
    "    for name, model in models.items():\n",
    "        model.fit(X_train, y_train)\n",
    "        print(name + \" trained.\")\n",
    "        \n",
    "    for name, model in models.items():\n",
    "        predict = model.predict(X_test)\n",
    "        accuracy = accuracy_score(y_test, predict)\n",
    "\n",
    "        auc = roc_auc_score(y_test, predict)\n",
    "        precision = precision_score(y_test, predict)\n",
    "        recall = recall_score(y_test, predict)\n",
    "        F1 = f1_score(y_test,predict)\n",
    "        print(name + \": accuracy {:.2f}%\".format(accuracy * 100) + \", AUC {:.2f}\".format(auc) + \", F1 {:.2f}\".format(F1) + \", precision {:.2f}%\".format(precision*100) + \", recall {:.2f}%\".format(recall*100))\n"
   ]
  },
  {
   "cell_type": "code",
   "execution_count": 96,
   "metadata": {
    "collapsed": false
   },
   "outputs": [
    {
     "data": {
      "text/plain": [
       "<gensim.models.keyedvectors.Word2VecKeyedVectors at 0x7ff57722bf28>"
      ]
     },
     "execution_count": 96,
     "metadata": {},
     "output_type": "execute_result"
    }
   ],
   "source": [
    "node2vec_embeddings"
   ]
  },
  {
   "cell_type": "code",
   "execution_count": 97,
   "metadata": {
    "collapsed": false
   },
   "outputs": [
    {
     "name": "stdout",
     "output_type": "stream",
     "text": [
      "missing embeddings:  285\n",
      "                   Logistic_Regression trained.\n",
      "                         Decision Tree trained.\n",
      "Support Vector Machine (Linear Kernel) trained.\n",
      "   Support Vector Machine (RBF Kernel) trained.\n",
      "                        Neural Network trained.\n",
      "                         Random Forest trained.\n",
      "                   Logistic_Regression: accuracy 76.17%, AUC 0.76, F1 0.77, precision 72.75%, recall 82.50%\n",
      "                         Decision Tree: accuracy 70.40%, AUC 0.70, F1 0.70, precision 69.95%, recall 69.92%\n",
      "Support Vector Machine (Linear Kernel): accuracy 76.15%, AUC 0.76, F1 0.77, precision 72.60%, recall 82.78%\n",
      "   Support Vector Machine (RBF Kernel): accuracy 77.84%, AUC 0.78, F1 0.80, precision 72.70%, recall 88.06%\n",
      "                        Neural Network: accuracy 79.75%, AUC 0.80, F1 0.80, precision 77.29%, recall 83.36%\n",
      "                         Random Forest: accuracy 75.13%, AUC 0.75, F1 0.74, precision 75.40%, recall 73.44%\n"
     ]
    }
   ],
   "source": [
    "evaluate(trackNet, labels, node2vec_embeddings)"
   ]
  },
  {
   "cell_type": "code",
   "execution_count": 109,
   "metadata": {
    "collapsed": false
   },
   "outputs": [
    {
     "name": "stdout",
     "output_type": "stream",
     "text": [
      "missing embeddings:  285\n",
      "                   Logistic_Regression trained.\n",
      "                         Decision Tree trained.\n",
      "Support Vector Machine (Linear Kernel) trained.\n",
      "   Support Vector Machine (RBF Kernel) trained.\n",
      "                        Neural Network trained.\n",
      "                         Random Forest trained.\n",
      "                   Logistic_Regression: accuracy 76.08%, AUC 0.76, F1 0.77, precision 72.69%, recall 82.36%\n",
      "                         Decision Tree: accuracy 71.72%, AUC 0.72, F1 0.71, precision 71.27%, recall 71.28%\n",
      "Support Vector Machine (Linear Kernel): accuracy 76.14%, AUC 0.76, F1 0.77, precision 72.51%, recall 82.99%\n",
      "   Support Vector Machine (RBF Kernel): accuracy 78.40%, AUC 0.79, F1 0.80, precision 73.25%, recall 88.40%\n",
      "                        Neural Network: accuracy 79.60%, AUC 0.80, F1 0.80, precision 77.29%, recall 82.92%\n",
      "                         Random Forest: accuracy 76.48%, AUC 0.76, F1 0.76, precision 76.38%, recall 75.61%\n"
     ]
    }
   ],
   "source": [
    "evaluate(trackNet, labels, node2vec_embeddings2)"
   ]
  },
  {
   "cell_type": "code",
   "execution_count": null,
   "metadata": {
    "collapsed": true
   },
   "outputs": [],
   "source": []
  }
 ],
 "metadata": {
  "kernelspec": {
   "display_name": "Python 3",
   "language": "python",
   "name": "python3"
  },
  "language_info": {
   "codemirror_mode": {
    "name": "ipython",
    "version": 3
   },
   "file_extension": ".py",
   "mimetype": "text/x-python",
   "name": "python",
   "nbconvert_exporter": "python",
   "pygments_lexer": "ipython3",
   "version": "3.6.0"
  }
 },
 "nbformat": 4,
 "nbformat_minor": 2
}
